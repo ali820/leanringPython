{
 "nbformat": 4,
 "nbformat_minor": 2,
 "metadata": {
  "language_info": {
   "name": "python",
   "codemirror_mode": {
    "name": "ipython",
    "version": 3
   },
   "version": "3.8.1-final"
  },
  "orig_nbformat": 2,
  "file_extension": ".py",
  "mimetype": "text/x-python",
  "name": "python",
  "npconvert_exporter": "python",
  "pygments_lexer": "ipython3",
  "version": 3,
  "kernelspec": {
   "name": "python38164bitfcfddd69c2904c95ac25b61ee34558ff",
   "display_name": "Python 3.8.1 64-bit"
  }
 },
 "cells": [
  {
   "cell_type": "markdown",
   "metadata": {},
   "source": [
    "## 第一周 Python基本语法元素\n",
    "### 1.1 程序设计的基本方法\n",
    "### 1.2 Python开发环境配置\n",
    "### 1.3 实例：温度转换 \n",
    "### 1.4 Python程序语法元素分析"
   ]
  },
  {
   "cell_type": "markdown",
   "metadata": {},
   "source": [
    "### 1.1 程序设计的基本方法\n",
    "\n",
    "计算机时根据指令来操作数据的设备，具有功能性和可编程性;  \n",
    "摩尔定律：单位面积集成电路上可容纳晶体管的数量约每两年翻一番   \n",
    "功能性:对数据的操作，表现为数据计算、输入输出处理和结果储存等  \n",
    "可编程性：根据一系列指令自动地、可预测地、准确地完成操作者的意图  \n",
    "源代码:采用某种编程语言编写的计算机程序，人类可读  \n",
    "目标代码：计算机可以直接执行，人类不可读\n",
    "compilation and interpretation  \n",
    "compilation:源代码->编译器->目标代码->（程序输入）->程序执行->结果输出  \n",
    "interpretation:将源代码逐条转换为目标代码的过程：源代码&程序输入->解释器->结果输出  \n",
    "\n",
    "静态语言：编译执行，C/C++，Java等，程序更快  \n",
    "脚本语言：解释执行，python，JavaScript，PHP等，维护方便  \n",
    "\n",
    "序基本编写方法：  \n",
    "IPO：\n",
    "I：input，需要处理的数据  \n",
    "P：process，通过算法处理，算法是一个程序的灵魂  \n",
    "O：output，展示运算结果的方式  \n",
    "\n",
    "需要理解什么是问题的计算部分：  \n",
    "1.确定IPO  \n",
    "2.编写程序  \n",
    "3.调试程序\n",
    "\n",
    "计算机编程那些事儿  \n",
    "抽象化交互关系，计算思维  \n",
    "数学：逻辑思维；物理：实验思维  \n",
    "提升自己的能力，创造世界  "
   ]
  },
  {
   "cell_type": "markdown",
   "metadata": {},
   "source": [
    "### 1.2  Python开发环境配置\n",
    "\n",
    "Python由PSF拥有，开放、开源\n",
    "\n",
    "开发环境配置略\n",
    "\n",
    "python的两种编写运行方式：\n",
    "- 交互式：输入即时运行结果，语法练习；\n",
    "- 文件式：执行一组语句并运行结果，主要的编程方式；\n",
    "\n"
   ]
  },
  {
   "cell_type": "markdown",
   "metadata": {},
   "source": [
    "#### 例1.圆面积的计算 "
   ]
  },
  {
   "cell_type": "code",
   "execution_count": 1,
   "metadata": {},
   "outputs": [
    {
     "name": "stdout",
     "output_type": "stream",
     "text": "1963.4375000000002\n"
    }
   ],
   "source": [
    "r = 25\n",
    "aera = 3.1415*r*r\n",
    "print(aera)"
   ]
  },
  {
   "cell_type": "code",
   "execution_count": 2,
   "metadata": {},
   "outputs": [
    {
     "name": "stdout",
     "output_type": "stream",
     "text": "1963.44\n"
    }
   ],
   "source": [
    "print('{:.2f}'.format(aera))"
   ]
  },
  {
   "cell_type": "markdown",
   "metadata": {},
   "source": [
    "#### 例2.绘制同切圆"
   ]
  },
  {
   "cell_type": "code",
   "execution_count": 1,
   "metadata": {},
   "outputs": [],
   "source": [
    "import turtle\n",
    "turtle.pensize(10)\n",
    "turtle.circle(2)\n",
    "turtle.circle(10)\n",
    "turtle.circle(40)\n",
    "turtle.circle(80)\n",
    "turtle.circle(160)"
   ]
  },
  {
   "cell_type": "markdown",
   "metadata": {},
   "source": [
    "#### 例3.五角星绘制"
   ]
  },
  {
   "cell_type": "code",
   "execution_count": 1,
   "metadata": {},
   "outputs": [],
   "source": [
    "from turtle import*\n",
    "color('red','red')\n",
    "begin_fill()\n",
    "for i in range(5):\n",
    "    fd(200)\n",
    "    rt(144)\n",
    "end_fill()\n",
    "done()"
   ]
  },
  {
   "cell_type": "markdown",
   "metadata": {},
   "source": [
    "### 1.3 实例：温度转换  \n",
    "摄氏度和华氏度相互转换\n",
    "理解1：直接将温度进行转换  \n",
    "理解2：将温度发布声音和图像进行理解和转换   \n",
    "理解3：爬取网上温度进行转换\n",
    "\n",
    "采取理解1进行在计算，边界如下：  \n",
    "输入：带华氏或者摄氏温度标志的温度值   \n",
    "处理：根据温标选取适当的转换算法   \n",
    "输出：待摄氏或者华氏温标的温度值  \n",
    "\n",
    "格式设计：标识放在数字之后，F表示华氏，C表示摄氏\n",
    "\n",
    "算法设计：  \n",
    "利用公式：  \n",
    "$C=(F-32)/1.8$和$F=C*1.8+32$  \n",
    "进行换算，其中，C为摄氏，F为华氏\n"
   ]
  },
  {
   "cell_type": "code",
   "execution_count": 12,
   "metadata": {},
   "outputs": [
    {
     "name": "stdout",
     "output_type": "stream",
     "text": "转换后的温度是46.40F\n"
    }
   ],
   "source": [
    "#TempConvert\n",
    "TempStr = input('请输入带有温度符号的温度值：')\n",
    "if TempStr[-1] in ['F','f']:\n",
    "    C = (eval(TempStr[0:-1])-32)/1.8\n",
    "    print('转换后的温度是{:.2f}C'.format(C))\n",
    "elif TempStr[-1] in ['C','c']:\n",
    "    F = 1.8*eval(TempStr[0:-1])+32\n",
    "    print('转换后的温度是{:.2f}F'.format(F))\n",
    "else:\n",
    "    print('输入格式错误')"
   ]
  },
  {
   "cell_type": "markdown",
   "metadata": {},
   "source": [
    "### 1.4 python程序语法元素分析\n",
    "- 格式与框架\n",
    "- 命名与保留字\n",
    "- 数据类型\n",
    "- 语句与函数\n",
    "- python程序的输入输出\n",
    "\n",
    "目标：理解10行左右的python小程序\n",
    "\n",
    "- 1.程序格式框架：  \n",
    "缩进：代码前的空白区域，表示程序的格式框架 python中是语法的一部分，表达代码间包含和层次关系的唯一手段，单一程序内，缩进的长度相同  \n",
    "注释：勇于提高代码可读性的辅助性文字，不被程序所执行，用来标注程序功能，提高代码可读性，单行以#开头，多行以'''开始和结束\n",
    "\n",
    "- 2.命名与保留字  \n",
    "变量：程序中用于保存和表示数据的占位符号，采用标识符（名字）表示，关联标识符的过程叫做命名，可以使用赋值符号（=）向变量赋值或者修改值  \n",
    "命名规则：大小写字母、数字、下划线和汉字及组合，命名大小写敏感，首字符不能是数字，保留字不能用（33个保留字）  \n",
    "\n",
    "- 3.数据类型\n",
    "程序语言要求无歧义，需要定义数据的形式，因此程序设计语言通过一定的方式向计算机表达数据的形式  \n",
    "字符串中序号从0开始  \n",
    "正向递增序号，反向递减字符  \n",
    "因为字符串有序号，可以进行索引和切片  \n",
    "索引：返回字符串的单个字符，使用方式:<字符串> \\[M]  \n",
    "切片：返回字符串中一段字符，使用方式:<字符串>\\[M:N]  \n",
    "整数类型，浮点数类型，列表类型（\\[]表示。中间用逗号分隔）\n",
    "\n",
    "- 4.语句与函数\n",
    "赋值语句：由赋值符号构成的一行代码  \n",
    "分支语句：由判断条件决定程序运行方向的语句，分支语句最后一定要有冒号（:）  \n",
    "函数：根据输入产生不同输出的功能过程\n",
    "\n",
    "- 5.python程序的输入输出  \n",
    "input()函数：<变量> = input（<提示信息字符串>）  \n",
    "ptint()函数：print(<拟输出的字符串>)  \n",
    "print()函数的格式化：可以用{}表示槽，后续变量可以填充到槽中  \n",
    "eval():去掉参数最外侧引号并执行余下语句的函数（评估函数）"
   ]
  },
  {
   "cell_type": "markdown",
   "metadata": {},
   "source": [
    "#### Hello World的条件输出\n",
    "描述\n",
    "\n",
    "获得用户输入的一个整数，参考该整数值，打印输出\"Hello World\"，要求：‪‬‪‬‪‬‪‬‪‬‮‬‪‬‮‬‪‬‪‬‪‬‪‬‪‬‮‬‫‬‪‬‪‬‪‬‪‬‪‬‪‬‮‬‪‬‪‬‪‬‪‬‪‬‪‬‪‬‮‬‫‬‭‬‪‬‪‬‪‬‪‬‪‬‮‬‫‬‫‬‪‬‪‬‪‬‪‬‪‬‮‬‭‬‪‬\n",
    "‪‬‪‬‪‬‪‬‪‬‮‬‪‬‮‬‪‬‪‬‪‬‪‬‪‬‮‬‫‬‪‬‪‬‪‬‪‬‪‬‪‬‮‬‪‬‪‬‪‬‪‬‪‬‪‬‪‬‮‬‫‬‭‬‪‬‪‬‪‬‪‬‪‬‮‬‫‬‫‬‪‬‪‬‪‬‪‬‪‬‮‬‭‬‪‬如果输入值是0，直接输出\"Hello World\"\n",
    "\n",
    "如果输入值大于0，以两个字符一行方式输出\"Hello World\"（空格也是字符）‪‬‪‬‪‬‪‬‪‬‮‬‪‬‮‬‪‬‪‬‪‬‪‬‪‬‮‬‫‬‪‬‪‬‪‬‪‬‪‬‪‬‮‬‪‬‪‬‪‬‪‬‪‬‪‬‪‬‮‬‫‬‭‬‪‬‪‬‪‬‪‬‪‬‮‬‫‬‫‬‪‬‪‬‪‬‪‬‪‬‮‬‭‬‪‬\n",
    "\n",
    "如果输入值小于0，以垂直方式输出\"Hello World\""
   ]
  },
  {
   "cell_type": "code",
   "execution_count": 8,
   "metadata": {},
   "outputs": [
    {
     "name": "stdout",
     "output_type": "stream",
     "text": "He\nll\no \nWo\nrl\nd\n"
    }
   ],
   "source": [
    "#HelloWorldCondition\n",
    "s = \"Hello World\"\n",
    "num = input()\n",
    "if eval(num) == 0:\n",
    "    print(s)\n",
    "elif eval(num) > 0:\n",
    "    st=\"\"\n",
    "    for i in range(len(s)):\n",
    "        if(i+1)%2 != 0:\n",
    "            st = st+s[i]\n",
    "            if len(s) == (i+1):\n",
    "                print (st)\n",
    "        else:\n",
    "            st = st+s[i]\n",
    "            print(st)\n",
    "            st = \"\"\n",
    "else:\n",
    "    for i in s:\n",
    "        print(i)"
   ]
  },
  {
   "cell_type": "markdown",
   "metadata": {},
   "source": [
    "#### 数值运算\n",
    "描述\n",
    "\n",
    "获得用户输入的一个字符串，格式如下：‪‬‪‬‪‬‪‬‪‬‮‬‪‬‮‬‪‬‪‬‪‬‪‬‪‬‮‬‫‬‪‬‪‬‪‬‪‬‪‬‪‬‮‬‪‬‪‬‪‬‪‬‪‬‪‬‪‬‮‬‫‬‭‬‪‬‪‬‪‬‪‬‪‬‮‬‫‬‫‬‪‬‪‬‪‬‪‬‪‬‮‬‭‬‪‬\n",
    "\n",
    "M OP N‪‬‪‬‪‬‪‬‪‬‮‬‪‬‮‬‪‬‪‬‪‬‪‬‪‬‮‬‫‬‪‬‪‬‪‬‪‬‪‬‪‬‮‬‪‬‪‬‪‬‪‬‪‬‪‬‪‬‮‬‫‬‭‬‪‬‪‬‪‬‪‬‪‬‮‬‫‬‫‬‪‬‪‬‪‬‪‬‪‬‮‬‭‬‪‬\n",
    "\n",
    "其中，M和N是任何数字，OP代表一种操作，表示为如下四种：+, -, *, /（加减乘除）‪‬‪‬‪‬‪‬‪‬‮‬‪‬‮‬‪‬‪‬‪‬‪‬‪‬‮‬‫‬‪‬‪‬‪‬‪‬‪‬‪‬‮‬‪‬‪‬‪‬‪‬‪‬‪‬‪‬‮‬‫‬‭‬‪‬‪‬‪‬‪‬‪‬‮‬‫‬‫‬‪‬‪‬‪‬‪‬‪‬‮‬‭‬‪‬\n",
    "\n",
    "根据OP，输出M OP N的运算结果，统一保存小数点后2位。‪‬‪‬‪‬‪‬‪‬‮‬‪‬‮‬‪‬‪‬‪‬‪‬‪‬‮‬‫‬‪‬‪‬‪‬‪‬‪‬‪‬‮‬‪‬‪‬‪‬‪‬‪‬‪‬‪‬‮‬‫‬‭‬‪‬‪‬‪‬‪‬‪‬‮‬‫‬‫‬‪‬‪‬‪‬‪‬‪‬‮‬‭‬‪‬\n",
    "\n",
    "注意：M和OP、OP和N之间可以存在多个空格，不考虑输入错误情况。"
   ]
  },
  {
   "cell_type": "code",
   "execution_count": 1,
   "metadata": {},
   "outputs": [
    {
     "name": "stdout",
     "output_type": "stream",
     "text": "42\n"
    }
   ],
   "source": [
    "#Calculater（个位数加减法）\n",
    "cal = input()\n",
    "if ('+') in cal[1:-1]:\n",
    "    print(eval(cal[0])+eval(cal[-1]))\n",
    "elif ('-') in cal[1:-1]:\n",
    "    print(eval(cal[0])-eval(cal[-1]))\n",
    "elif ('*') in cal[1:-1]:\n",
    "    print(eval(cal[0])*eval(cal[-1]))\n",
    "elif ('/') in cal[1:-1]:\n",
    "    print(eval(cal[0])/eval(cal[-1]))"
   ]
  },
  {
   "cell_type": "code",
   "execution_count": 2,
   "metadata": {},
   "outputs": [
    {
     "name": "stdout",
     "output_type": "stream",
     "text": "42.00\n"
    }
   ],
   "source": [
    "string = input()    #输入一个字符串\n",
    "op_num = 0  #定义操作字符值为0\n",
    "op = ['+','-','*','/']  #定义操作字符\n",
    "for i,s in enumerate(string):   \n",
    "    if s in op and i!=0:\n",
    "        op_num = i\n",
    "        if string[0] =='-':\n",
    "            num1 = -float((string[1:i]).strip())\n",
    "        elif string[0:2]== '0x':\n",
    "            num1 = int(eval((string[:i]).strip()))\n",
    "        else:\n",
    "            num1 = float((string[0:i]).strip())\n",
    "        num2 = float((string[i+1:]).strip())\n",
    "\n",
    "        if s == op[0]:\n",
    "            print('{:.2f}'.format(num1 + num2))\n",
    "        elif s == op[1]:\n",
    "            print('{:.2f}'.format(num1 - num2))\n",
    "        elif s == op[2]:\n",
    "            print('{:.2f}'.format(num1 * num2))\n",
    "        else:\n",
    "            print('{:.2f}'.format(num1 / num2))"
   ]
  },
  {
   "cell_type": "code",
   "execution_count": null,
   "metadata": {},
   "outputs": [],
   "source": []
  },
  {
   "cell_type": "code",
   "execution_count": null,
   "metadata": {},
   "outputs": [],
   "source": []
  }
 ]
}