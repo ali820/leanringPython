{
 "nbformat": 4,
 "nbformat_minor": 2,
 "metadata": {
  "language_info": {
   "name": "python",
   "codemirror_mode": {
    "name": "ipython",
    "version": 3
   },
   "version": "3.8.1-final"
  },
  "orig_nbformat": 2,
  "file_extension": ".py",
  "mimetype": "text/x-python",
  "name": "python",
  "npconvert_exporter": "python",
  "pygments_lexer": "ipython3",
  "version": 3,
  "kernelspec": {
   "name": "python38164bitfcfddd69c2904c95ac25b61ee34558ff",
   "display_name": "Python 3.8.1 64-bit"
  }
 },
 "cells": [
  {
   "cell_type": "markdown",
   "metadata": {},
   "source": [
    "### 第二周 Python基本图形绘制\n",
    "#### 2.1 深入理解python语言\n",
    "#### 2.2 实例2：python蟒蛇绘制\n",
    "#### 2.3 模块1：turtle库的使用\n",
    "#### 2.4 turtle程序语法元素分析"
   ]
  },
  {
   "cell_type": "markdown",
   "metadata": {},
   "source": [
    "#### 2.1 深入理解python语言\n",
    "计算机发展四个阶段：  \n",
    "1946-1981：计算机系统结构时代，计算能力问题  \n",
    "1981-2008：网络和视窗时代，人与计算机交互能力  \n",
    "2008-2016：复杂系统时代，数据问题  \n",
    "2017-    ：人工智能时代，人类的问题\n",
    "\n",
    "\n",
    "不同编程语言 \n",
    "\n",
    "|语言名称|学习内容|语言本质|解决问题|\n",
    "|:---:|:---:|:---:|:---:|\n",
    "|C|指针、内存、数据类型|理解计算机系统结构|性能|\n",
    "|Java|对象、跨平台、运行时|理解主客体关系|跨平台|\n",
    "|C++|对象、多态、继承|理解主客体关系|大规模程序|\n",
    "|VB|对象、按钮、文本框|理解人机交互逻辑|桌面应用|\n",
    "|Python|编辑逻辑、第三方库|理解问题、求解问题|各类问题|\n",
    "\n",
    "\n",
    "深入理解python语言  \n",
    "通用性：Python语言是一个通用语言，其通用性是其最大特点  \n",
    "语法简介：Python语法具有强制可读性，有较少的底层语法元素，是C语言的代码量10%  \n",
    "计算生态：Python具有大量的第三方库，有快速增长的第三方库，跨操作系统  \n",
    "\n",
    "编程语言的种类\n",
    "机器语言：二进制代码，与CPU型号相关  \n",
    "汇编语言：二进制代码用助记符表示，与CPU型号相关  \n",
    "高级语言：接近自然语言，编译器编译后运行，与CPU型号无关  \n",
    "超级语言：接近自然语言，粘接已有程序，形成庞大生态，python是唯一超级语言"
   ]
  },
  {
   "cell_type": "markdown",
   "metadata": {},
   "source": [
    "#### 2.2 实例2：python蟒蛇绘制\n",
    "问题1：计算机绘图是什么原理？  \n",
    "问题2：蟒蛇绘制应当从哪里开始？   \n",
    "代码如下： "
   ]
  },
  {
   "cell_type": "code",
   "execution_count": 39,
   "metadata": {},
   "outputs": [],
   "source": [
    "    #PythonDraw\n",
    "    import turtle   #引入turtle库\n",
    "    turtle.setup(650, 350, 200, 200)\n",
    "    turtle.penup()\n",
    "    turtle.fd(-250)\n",
    "    turtle.pendown()\n",
    "    turtle.pensize(25)\n",
    "    turtle.pencolor(\"gray\")\n",
    "    turtle.seth(-40)\n",
    "    for i in range(4):\n",
    "        turtle.circle(40, 80)\n",
    "        turtle.circle(-40, 80)\n",
    "    turtle.circle(40, 80/2)\n",
    "    turtle.fd(40)\n",
    "    turtle.circle(16, 180)\n",
    "    turtle.fd(40 * 2/3)\n",
    "    turtle.done()"
   ]
  },
  {
   "cell_type": "markdown",
   "metadata": {},
   "source": [
    "#### 2.3 模块1：turtle库的使用\n",
    "turtle库概述  \n",
    "turtle绘图体系的Python实现，是python语言的标准库之一\n",
    ">标准库：随解释器一起安装到操作系统的功能模块  \n",
    "第三方库：需要经过安装才能使用的功能模块（库：Library、包：Package、模块：Module统称模块）  \n",
    "\n",
    "turtle绘图窗体  \n",
    "turtle种使用的单位是像素，窗体左上角是坐标原点"
   ]
  },
  {
   "cell_type": "code",
   "execution_count": null,
   "metadata": {},
   "outputs": [],
   "source": [
    "turtle.setup(width,height,startx,starty)\n",
    "#setup()设置窗体的大小及位置，4个参数后两个表示相对整个屏幕的位置"
   ]
  },
  {
   "cell_type": "markdown",
   "metadata": {},
   "source": [
    "turtle空间坐标体系  \n",
    "内部有一个绝对坐标系，中间为（0，0）点，可以从中点去往任意地方  \n",
    "例如：goto"
   ]
  },
  {
   "cell_type": "code",
   "execution_count": null,
   "metadata": {},
   "outputs": [],
   "source": [
    "import turtle\n",
    "turtle.goto(100,100)\n",
    "turtle.goto(100,-100)\n",
    "turtle.goto(-100,-100)\n",
    "turtle.goto(-100,100)\n",
    "turtle.goto(0,0)"
   ]
  },
  {
   "cell_type": "markdown",
   "metadata": {},
   "source": [
    "海龟坐标：以海龟视角控制海龟的行走  \n",
    "\n",
    "turtle的角度坐标系  \n",
    "可以用`turtle.seth(angle)`来设置,例如`turtle.seth(45)`可以让海龟方向朝向45度  \n",
    "也可以用`turtle.right(angle)``turtle.right(angle)`让海龟向左向右旋转  \n",
    "\n",
    "例子：\n"
   ]
  },
  {
   "cell_type": "code",
   "execution_count": null,
   "metadata": {},
   "outputs": [],
   "source": [
    "import turtle\n",
    "turtle.left(45)\n",
    "turtle.fd(150)\n",
    "turtle.right(135)\n",
    "turtle.fd(300)\n",
    "turtle.left(135)\n",
    "turtle.fd(150)\n",
    "ts.turtle.getscreen()\n",
    "ts.getcanvas().postscript(file = 'z.eps')"
   ]
  },
  {
   "cell_type": "markdown",
   "metadata": {},
   "source": [
    "turtle的色彩体系  \n",
    "利用RGB的色彩，红绿蓝三色取0-255（或者0-1）数值来确定颜色  \n",
    "可以用`turtle.colormode(mode)`改变整数（255）表示颜色或者小数（1）表示颜色  \n"
   ]
  },
  {
   "cell_type": "markdown",
   "metadata": {},
   "source": [
    "#### 2.4 turtle语法元素分析\n",
    "1. 库引用与import  \n",
    " 库引用：扩充Python程序功能的一种方式\n",
    ">库引用使用`import`保留字完成，采用`<a>.<b>()`的编码风格  \n",
    "```        \n",
    "          import<库名>    \n",
    "         <库名>.<函数名>(<函数参数>)\n",
    "```\n",
    ">使用`form`和`import`保留字共同完成对库的引用\n",
    "``` \n",
    "        form<库名>import<函数名>\n",
    "        from<库名>import*\n",
    "        <函数名>(<函数参数>)\n",
    "```"
   ]
  },
  {
   "cell_type": "code",
   "execution_count": 16,
   "metadata": {},
   "outputs": [],
   "source": [
    "    #PythonDraw\n",
    "    from turtle import*  #引入turtle库\n",
    "    setup(650, 350, 200, 200)\n",
    "    penup()\n",
    "    fd(-250)\n",
    "    pendown()\n",
    "    pensize(25)\n",
    "    pencolor(\"gray\")\n",
    "    seth(-40)\n",
    "    for i in range(4):\n",
    "        circle(40, 80)\n",
    "        circle(-40, 80)\n",
    "    circle(40, 80/2)\n",
    "    fd(40)\n",
    "    circle(16, 180)\n",
    "    fd(40 * 2/3)\n",
    "    done()"
   ]
  },
  {
   "cell_type": "markdown",
   "metadata": {},
   "source": [
    ">或者为了防止名称冲突，可以使用`import `和`as`(建议)\n",
    "```\n",
    "    import<库名>as<库别名>\n",
    "    <库别名>.<函数>(<函数参数>)\n",
    "```\n"
   ]
  },
  {
   "cell_type": "code",
   "execution_count": 35,
   "metadata": {},
   "outputs": [],
   "source": [
    "#PythonDraw\n",
    "import turtle as t   #引入turtle库\n",
    "t.setup(650, 350, 200, 200)\n",
    "t.penup()\n",
    "t.fd(-250)\n",
    "t.pendown()\n",
    "t.pensize(25)\n",
    "t.pencolor(\"gray\")\n",
    "t.seth(-40)\n",
    "for i in range(4):\n",
    "    t.circle(40, 80)\n",
    "    t.circle(-40, 80)\n",
    "t.circle(40, 80/2)\n",
    "t.fd(40)\n",
    "t.circle(16, 180)\n",
    "t.fd(40 * 2/3)\n",
    "t.done()"
   ]
  },
  {
   "cell_type": "markdown",
   "metadata": {},
   "source": [
    "2.turtle画笔控制函数  \n",
    ">`turtle.penup()`或`turtle.pu()`，表示画笔抬起  \n",
    "`turtle.pendown()`或`turtle.pd()`，表示画笔落下  \n",
    "`turtle.pensize(width)`或`turtle.width()`，表示画笔宽度  \n",
    "`turtle.pencolor(color)`，表示画笔颜色 \n",
    "\n",
    "3.turtle运动控制函数  \n",
    ">`turtle.forward(distance)`或`turtle.fd(distance)`，表示直线前行,可以是负数    \n",
    "`turtle.circle(r,extent)`表示根据`r`画`excent`角度的弧形  \n",
    ">>`r`默认在海龟左侧`r`处  \n",
    "`extent`默认是360度整圆\n",
    "\n",
    "4.turtle方向控制函数\n",
    ">`turtle.setheading(angle)`或`turtle.seth(angle)`，表示角度改变  \n",
    ">>`angle`改变的是绝对坐标度数,逆时针为正  \n",
    "\n",
    "> `turtle.left(angle)`,`turtle.right(angle)`海龟视角左右\n",
    ">>`angle`表示海龟前景视角上向左向右旋转的角度  \n",
    "    \n",
    "\n"
   ]
  },
  {
   "cell_type": "code",
   "execution_count": 37,
   "metadata": {},
   "outputs": [
    {
     "name": "stdout",
     "output_type": "stream",
     "text": ":) 3\n:) 4\n"
    }
   ],
   "source": [
    "for i in range(3,5):\n",
    "    print(\":)\",i)"
   ]
  },
  {
   "cell_type": "markdown",
   "metadata": {},
   "source": [
    "`range`函数产生循环技术序列\n",
    ">`range(N)`产生0到N-1的整数序列  \n",
    "`range(M,N)`产生M到N-1的整数序列,共N-M个数字\n"
   ]
  },
  {
   "cell_type": "code",
   "execution_count": null,
   "metadata": {},
   "outputs": [],
   "source": [
    "    #PythonDraw\n",
    "    import turtle as t   #引入turtle库\n",
    "    t.setup(650, 350, 200, 200) #窗口大小为650*350,位置是窗口左上角距离屏幕左上角(200,200)处\n",
    "    t.penup()                    #抬起画笔\n",
    "    t.fd(-250)                   #向后行进250个像素,画布上没有任何痕迹\n",
    "    t.pendown()                  #画笔落下\n",
    "    #由原点变为左侧250\n",
    "    t.pensize(25)                #设置笔的宽度为25\n",
    "    t.pencolor(\"gray\")           #颜色设置\n",
    "    t.seth(-40)                  #方向设置为绝对坐标40度位置\n",
    "    #准备工作完成\n",
    "    for i in range(4):           \n",
    "        t.circle(40, 80)\n",
    "        t.circle(-40, 80)        #绘制身体部分\n",
    "    t.circle(40, 80/2)              \n",
    "    t.fd(40)\n",
    "    t.circle(16, 180)\n",
    "    t.fd(40 * 2/3)\n",
    "    t.donet.done                #绘制完成不会不会自动退出,手动退出"
   ]
  },
  {
   "cell_type": "markdown",
   "metadata": {},
   "source": [
    "#### turtle八边形绘制\n",
    "‪‬‪‬‪‬‪‬‪‬‮‬‪‬‮‬‪‬‪‬‪‬‪‬‪‬‮‬‫‬‪‬‪‬‪‬‪‬‪‬‪‬‮‬‪‬‪‬‪‬‪‬‪‬‪‬‪‬‮‬‫‬‭‬‪‬‪‬‪‬‪‬‪‬‮‬‫‬‫‬‪‬‪‬‪‬描述\n",
    "\n",
    "使用turtle库，绘制一个八边形。"
   ]
  },
  {
   "cell_type": "code",
   "execution_count": 1,
   "metadata": {},
   "outputs": [],
   "source": [
    "import turtle as t\n",
    "t.pensize(2)\n",
    "for i in range(8):\n",
    "    t.fd(100)\n",
    "    t.left(45)\n",
    "    t.done"
   ]
  },
  {
   "cell_type": "markdown",
   "metadata": {},
   "source": [
    "#### turtle八角形绘制\n",
    "‪‬‪‬‪‬‪‬‪‬‮‬‪‬‮‬‪‬‪‬‪‬‪‬‪‬‮‬‫‬‪‬‪‬‪‬‪‬‪‬‪‬‮‬‪‬‪‬‪‬‪‬‪‬‪‬‪‬‮‬‫‬‭‬‪‬‪‬‪‬‪‬‪‬‮‬‫‬‫‬‪‬‪‬‪‬描述\n",
    "\n",
    "使用turtle库，绘制一个八角形。"
   ]
  },
  {
   "cell_type": "code",
   "execution_count": 1,
   "metadata": {},
   "outputs": [],
   "source": [
    "import turtle as t\n",
    "t.pensize(2)\n",
    "for i in range(8):\n",
    "    t.fd(150)\n",
    "    t.left(135)\n",
    "    #t.done"
   ]
  }
 ]
}