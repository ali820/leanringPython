{
 "nbformat": 4,
 "nbformat_minor": 2,
 "metadata": {
  "language_info": {
   "name": "python",
   "codemirror_mode": {
    "name": "ipython",
    "version": 3
   },
   "version": "3.8.1-final"
  },
  "orig_nbformat": 2,
  "file_extension": ".py",
  "mimetype": "text/x-python",
  "name": "python",
  "npconvert_exporter": "python",
  "pygments_lexer": "ipython3",
  "version": 3,
  "kernelspec": {
   "name": "python38164bitfcfddd69c2904c95ac25b61ee34558ff",
   "display_name": "Python 3.8.1 64-bit"
  }
 },
 "cells": [
  {
   "cell_type": "markdown",
   "metadata": {},
   "source": [
    "## week 6 组合数据类型\n",
    "### 6.1 集合类型及其操作\n",
    "### 6.2 序列类型及其操作\n",
    "### 6.3 实例9：基本统计值计算\n",
    "### 6.4 字典类型及操作\n",
    "### 6.5 模块5：jieba库的使用\n",
    "### 6.6 实例10：文本词频统计"
   ]
  },
  {
   "cell_type": "markdown",
   "metadata": {},
   "source": [
    "### 6.1 集合类型及其操作\n",
    "- 集合是多个元素的无序组合\n",
    "    1. 集合类型和数学中集合概念一致\n",
    "    2. 集合元素之间无序，每个元素唯一，不存在相同元素\n",
    "    3. 集合元素不可更改，不能是可变数据类型\n",
    "    4. 集合用`{}`表示，元素间用逗号分隔\n",
    "    5. 建立集合类型用{}或者`set()`\n",
    "    6. 建立空集合类型，必须用`set()`\n"
   ]
  },
  {
   "cell_type": "code",
   "execution_count": 8,
   "metadata": {},
   "outputs": [
    {
     "output_type": "stream",
     "name": "stdout",
     "text": "{('python', 123), 123, 'python'}\n{'2', 'y', 'p', '1', '3'}\n"
    }
   ],
   "source": [
    "#使用{}建立集合,无序，不同\n",
    "A = {'python',123,('python',123)}           #使用{}建立集合\n",
    "print(A)\n",
    "B = set('pypy123')                          #使用{}建立集合\n",
    "print(B)"
   ]
  },
  {
   "cell_type": "markdown",
   "metadata": {},
   "source": [
    "- 集合间操作\n",
    "    1. S|T:返回一个新集合，包括在集合S和T中的所有元素（并）\n",
    "    2. S-T:返回一个新集合，包括在集合S但不在T中的元素（差）\n",
    "    3. S&T:返回一个新集合，包括同时在集合S和T中的元素（交）\n",
    "    4. S^T:返回一个新集合，包括集合S和T中的非相同元素（补）\n",
    "    5. S<=T或S<T:返回True/False，判断S和T的子集关系\n",
    "    6. S>=T或S>T:返回True/False，判断S和T的包含关系\n",
    "- 增强操作符\n",
    "    1. S|=T：更新集合S，包括在集合S和T中的所有元素\n",
    "    2. S-=T：更新集合S，包括在集合S但不在T中的元素\n",
    "    3. S&=T：更新集合S，包括同时在集合S和T中的元素\n",
    "    4. S^=T：更新集合S，包括集合S和T中的非相同元素"
   ]
  },
  {
   "cell_type": "code",
   "execution_count": 11,
   "metadata": {},
   "outputs": [
    {
     "output_type": "stream",
     "name": "stdout",
     "text": "{123} {'1', '3', '2'} {'p', 'y'} {'2', 'y', 'p', '3', '1', 123} {'2', 123, '1', '3'}\n"
    }
   ],
   "source": [
    "#集合间操作\n",
    "A={'p','y',123}\n",
    "B=set('pypy123')\n",
    "print(A-B,B-A,A&B,A|B,A^B)"
   ]
  },
  {
   "cell_type": "markdown",
   "metadata": {},
   "source": [
    "- 集合处理方法\n",
    "    1. S.add(x):如果x不在集合S中，将x增加到S\n",
    "    2. S.discard(x)：移除S中元素x，如果x不在集合S中，不报错\n",
    "    3. S.remove(x)：移除S中元素x，如果x不在集合S中,产生KeyError异常\n",
    "    4. S.clear(x)：移除S中所有元素\n",
    "    5. S.pop()：随机返回S的一个元素，并更新S，若S为空产生KeyError异常\n",
    "    6. S.copy()：返回集合一个副本\n",
    "    7. len(S)：返回集合S元素个数\n",
    "    8. x in S：判断S中元素x，x在集合S中，返回Tue，否则返回False\n",
    "    9. x not in S：判断S中元素x，x不在集合S中，返回Tue，否则返回False\n",
    "    10. set(x)：将其他类型变量转换成为集合类型"
   ]
  },
  {
   "cell_type": "code",
   "execution_count": 14,
   "metadata": {},
   "outputs": [
    {
     "output_type": "stream",
     "name": "stdout",
     "text": "123 y p"
    }
   ],
   "source": [
    "#集合处理方法\n",
    "A = {'p','y',123}\n",
    "for i in A:\n",
    "    print(i,end=' ')"
   ]
  },
  {
   "cell_type": "code",
   "execution_count": 61,
   "metadata": {},
   "outputs": [
    {
     "output_type": "stream",
     "name": "stdout",
     "text": "123 y p"
    }
   ],
   "source": [
    "try:\n",
    "    A = {'p','y',123}\n",
    "    while True:\n",
    "        print(A.pop(),end=' ')\n",
    "except:\n",
    "    pass"
   ]
  },
  {
   "cell_type": "markdown",
   "metadata": {},
   "source": [
    "- 集合类型应用场景\n",
    "    - 最主要功能是数据去重：利用集合类型所有元素无重复的功能实现"
   ]
  },
  {
   "cell_type": "code",
   "execution_count": 64,
   "metadata": {},
   "outputs": [
    {
     "output_type": "execute_result",
     "data": {
      "text/plain": "True"
     },
     "metadata": {},
     "execution_count": 64
    }
   ],
   "source": [
    "'p' in {'p','y',123}"
   ]
  },
  {
   "cell_type": "code",
   "execution_count": 67,
   "metadata": {},
   "outputs": [
    {
     "output_type": "execute_result",
     "data": {
      "text/plain": "False"
     },
     "metadata": {},
     "execution_count": 67
    }
   ],
   "source": [
    "{'p','y'}>={'p','y',123}"
   ]
  },
  {
   "cell_type": "code",
   "execution_count": 2,
   "metadata": {},
   "outputs": [
    {
     "output_type": "stream",
     "name": "stdout",
     "text": "{123, 'y', 'p'} [123, 'y', 'p']\n"
    }
   ],
   "source": [
    "#数据去重\n",
    "ls=['p','p','y','y',123]\n",
    "s=set(ls)\n",
    "ls=list(s)\n",
    "print(s,ls)"
   ]
  },
  {
   "cell_type": "markdown",
   "metadata": {},
   "source": [
    "### 6.2 序列类型及其操作\n",
    "- 序列：具有先后关系的一组元素，是一组一维元素向量，元素类型可以不同\n",
    "    - 类似数学元素序列\n",
    "    - 是一个基类类型\n",
    "    - 字符串类型，元组类型，列表类型\n",
    "    - 元素存在正向递增，反向递减\n",
    "- 序列的通用操作符\n",
    "    - `x in s`:x是序列s的元素，返回True，否则返回False\n",
    "    - `x not in s`:如果x是序列s的元素，返回False，否则返回True\n",
    "    - `s+t`:连接两个序列s和t\n",
    "    - `s*n或n*s`:将序列s复制n次\n",
    "    - `s[i]`:索引，返回s中的第i个元素,i是序号\n",
    "    - `s[i:j]或s[i:j:k]`:切片，返回序列s中第i到j以k为步长的元素子序列"
   ]
  },
  {
   "cell_type": "code",
   "execution_count": 5,
   "metadata": {},
   "outputs": [
    {
     "output_type": "stream",
     "name": "stdout",
     "text": "['.io', 123, 'python'] o.321mohtyp\n"
    }
   ],
   "source": [
    "#取反\n",
    "ls=['python',123,'.io']\n",
    "s='pythom123.o'\n",
    "print(ls[::-1],s[::-1])"
   ]
  },
  {
   "cell_type": "markdown",
   "metadata": {},
   "source": [
    "- 函数和方法\n",
    "    - `len(s)`:返回序列s的长度\n",
    "    - `min(s)`:返回序列s最小元素，s中元素需要可比较\n",
    "    - `max(s)`:返回序列s最大元素，s中元素需要可比较\n",
    "    - `s.index(x)或s.index(x,i,j)`:返回序列s从i开始到j位置中第一次出现元素x的位置\n",
    "    - `s.count(x)`:返回序列出现x的总次数"
   ]
  },
  {
   "cell_type": "code",
   "execution_count": 6,
   "metadata": {},
   "outputs": [
    {
     "output_type": "stream",
     "name": "stdout",
     "text": "3 y\n"
    }
   ],
   "source": [
    "ls=['python',123,'.io']\n",
    "s='pythom123.o'\n",
    "print(len(ls),max(s))"
   ]
  },
  {
   "cell_type": "markdown",
   "metadata": {},
   "source": [
    "- 元组是序列类型的一种拓展\n",
    "    - 一种序列类型，一旦创建不可修改\n",
    "    - 使用小括号()或tuple()创建，元素间用逗号分隔\n",
    "    - 可以使用或者不使用小括号\n",
    "    - 没有特殊操作"
   ]
  },
  {
   "cell_type": "code",
   "execution_count": 10,
   "metadata": {},
   "outputs": [
    {
     "output_type": "stream",
     "name": "stdout",
     "text": "('cat', 'dog', 'tiger', 'human') (4352, 'blue', ('cat', 'dog', 'tiger', 'human')) ('human', 'tiger', 'dog', 'cat') tiger\n"
    }
   ],
   "source": [
    "#元组的使用\n",
    "creature = 'cat','dog','tiger','human'\n",
    "color=(0x001100,'blue',creature)\n",
    "print(creature,color,creature[::-1],color[-1][2])"
   ]
  },
  {
   "cell_type": "markdown",
   "metadata": {},
   "source": [
    "- 列表是序列类型的一种扩展，十分常用\n",
    "    - 列表是一种序列类型，创建后可以随便修改\n",
    "    - 使用方括号[]或list()创建，元素间用`,`分隔\n",
    "    - 列表中各元素类型可以不同，无长度限制"
   ]
  },
  {
   "cell_type": "code",
   "execution_count": 12,
   "metadata": {},
   "outputs": [
    {
     "output_type": "execute_result",
     "data": {
      "text/plain": "['cat', 'dog', 'tiger', 1024]"
     },
     "metadata": {},
     "execution_count": 12
    }
   ],
   "source": [
    "#列表\n",
    "ls=['cat', 'dog','tiger',1024]\n",
    "lt=ls\n",
    "lt"
   ]
  },
  {
   "cell_type": "markdown",
   "metadata": {},
   "source": [
    "- 列表类型操作函数及方法\n",
    "    - `ls[i]=x`:替换列表ls第i元素为x\n",
    "    - `ls[i:j:k]=lt`:用列表lt替换切片后所对应元素子列表\n",
    "    - `del ls[i]`:删除列表ls中第i元素\n",
    "    - `del ls[i:j:k]`:删除列表ls中第i到第j以k为步长的元素\n",
    "    - `ls+=lt`:更新列表ls，将lt元素增加到列表ls中\n",
    "    - `ls*=n`:更新列表s，其元素重复n次"
   ]
  },
  {
   "cell_type": "code",
   "execution_count": 38,
   "metadata": {},
   "outputs": [
    {
     "output_type": "stream",
     "name": "stdout",
     "text": "['cat', 1, 2, 3, 4, 'tiger', 1024]\n[1, 2, 4, 'tiger']\n"
    },
    {
     "output_type": "execute_result",
     "data": {
      "text/plain": "[1, 2, 4, 'tiger', 1, 2, 4, 'tiger']"
     },
     "metadata": {},
     "execution_count": 38
    }
   ],
   "source": [
    "#列表类型操作\n",
    "ls=['cat', 'dog','tiger',1024]\n",
    "ls[1:2]=[1,2,3,4]\n",
    "print(ls)\n",
    "del ls[::3]\n",
    "print(ls)\n",
    "ls*2"
   ]
  },
  {
   "cell_type": "markdown",
   "metadata": {},
   "source": [
    "- 列表类型操作函数及方法\n",
    "    - `ls.append(x)`:在ls最后增加一个元素x\n",
    "    - `ls.clear()`:删除列表ls中所有元素\n",
    "    - `ls.copy()`:生成一个新列表，赋值ls中所有元素\n",
    "    - `ls.insert(i,x)`:在列表ls第i位置增加元素x\n",
    "    - `ls.pop(i)`:将列表ls中第i位置元素取出并删除该元素\n",
    "    - `ls.remove(x)`:将列表ls中出现的第一个元素x删除\n",
    "    - `ls.reverse()`:将列表ls中的元素反转"
   ]
  },
  {
   "cell_type": "code",
   "execution_count": 44,
   "metadata": {},
   "outputs": [
    {
     "output_type": "stream",
     "name": "stdout",
     "text": "['cat', 'dog', 'tiger', 1024, 1234]\n['cat', 'dog', 'tiger', 'human', 1024, 1234]\n[1234, 1024, 'human', 'tiger', 'dog', 'cat']\n"
    }
   ],
   "source": [
    "#列表类型操作\n",
    "ls=['cat', 'dog','tiger',1024]\n",
    "ls.append(1234)\n",
    "print(ls)\n",
    "ls.insert(3,'human')\n",
    "print(ls)\n",
    "ls.reverse()\n",
    "print(ls)"
   ]
  },
  {
   "cell_type": "markdown",
   "metadata": {},
   "source": [
    "- 序列类型应用场景\n",
    "    - 元组用于元素不改变的应用场景，更多用于固定搭配\n",
    "    - 列表更加灵活，它是最常用的数据类型\n",
    "    - 最主要作用：表示一组有效数据，进而操作它们\n",
    "    - 元素遍历\n",
    "    - 元组可用于数据保护"
   ]
  },
  {
   "cell_type": "markdown",
   "metadata": {},
   "source": [
    "### 6.3 实例9：基本统计值计算\n",
    "- 问题分析\n",
    "    - 需求：给出一组数据，对它们要有概要的理解\n",
    "    - 总个数、求和、平均值、方差、中位数···\n"
   ]
  },
  {
   "cell_type": "code",
   "execution_count": 66,
   "metadata": {},
   "outputs": [
    {
     "output_type": "stream",
     "name": "stdout",
     "text": "源数据：[1, 2, 3, 4, 5, 67, 7, 8, 9]\n平均值：11.777777777777779,方差：2.1e+01,中位数：5\n"
    }
   ],
   "source": [
    "#CalStatisticsV1\n",
    "def getNum():\n",
    "    nums=[]\n",
    "    iNumStr=input('请输入数字（回车结束）：')\n",
    "    while iNumStr != '':\n",
    "        nums.append(eval(iNumStr))\n",
    "        iNumStr=input('请输入数字（回车结束）：')\n",
    "    return nums\n",
    "#计算平均值\n",
    "def mean(numbers):\n",
    "    s=0.0\n",
    "    for num in numbers:\n",
    "        s+=num\n",
    "    return s/len(numbers)\n",
    "#计算方差\n",
    "def dev(numbers,mean):\n",
    "    sdev=0.0\n",
    "    for num in numbers:\n",
    "        sdev += (num-mean)**2\n",
    "    return pow(sdev/(len(numbers)-1),0.5)\n",
    "#计算中位数\n",
    "def median(numbers):\n",
    "    sorted(numbers)\n",
    "    size=len(numbers)\n",
    "    if size % 2 == 0:\n",
    "        med = (numbers[size//2-1]+numbers[size//2])/2\n",
    "    else:\n",
    "        med = numbers[size//2]\n",
    "    return med\n",
    "#主函数\n",
    "n = getNum()\n",
    "print('源数据：{}\\n平均值：{},方差：{:.2},中位数：{}'.format(n,mean(n),dev(n,mean(n)),median(n)))"
   ]
  },
  {
   "cell_type": "markdown",
   "metadata": {},
   "source": [
    "### 6.4 字典类型及操作\n",
    "- 映射：映射是一种键（索引）和值（数据）的对应\n",
    "- 键值对：键是数据索引的拓展\n",
    "- 字典是键值对的集合，键值对之间无序\n",
    "- 一般采用大括号{}和dict()创建，键值对用冒号：表示\n",
    "    - `{<键1>:<值1>,<键2>:<值2>,...,<键n>:<值n>}`\n",
    "- 字典变量通过键获得值\n",
    "    - `<字典变量>={<键1>:<值1>,...,<键n>:<值n>}`\n",
    "    - `<值>=<字典变量>[<键>]`\n",
    "    - `<字典变量>[<键>]=<值>`\n",
    "\n"
   ]
  },
  {
   "cell_type": "code",
   "execution_count": 6,
   "metadata": {},
   "outputs": [
    {
     "output_type": "stream",
     "name": "stdout",
     "text": "北京\n"
    },
    {
     "output_type": "execute_result",
     "data": {
      "text/plain": "dict"
     },
     "metadata": {},
     "execution_count": 6
    }
   ],
   "source": [
    "#字典例子\n",
    "d = {'中国':'北京','美国':'华盛顿','法国':'巴黎'}\n",
    "print(d['中国'])\n",
    "de={}#生成空字典\n",
    "type(de)#返回de类型"
   ]
  },
  {
   "cell_type": "markdown",
   "metadata": {},
   "source": [
    "- 字典类型函数及方法\n",
    "    - `del d[k]`：删除字典d中k对应数据值\n",
    "    - `k in d`：判断键k是否在字典d中，如果在返回True，否则返回False\n",
    "    - `d.keys()`：返回字典d中所有的键信息\n",
    "    - `d.values()`：返回字典d中值的信息\n",
    "    - `d.items()`：返回字典中所有键值对的信息\n",
    "    - `d.get(k,<default>)`：键k存在，则返回相应值，不存在则返回<default\\>值\n",
    "    - `d.pop(k.<default>)`：键k存在，则取出相应值，不存在则返回<default\\>值\n",
    "    - `d.popitem()`：随机从字典d中取出一个键值对，以元组形式返回\n",
    "    - `d.clear()`：删除所有键值对\n",
    "    - `len(d)`：返回字典d中元素个数"
   ]
  },
  {
   "cell_type": "code",
   "execution_count": 13,
   "metadata": {},
   "outputs": [
    {
     "output_type": "stream",
     "name": "stdout",
     "text": "dict_keys(['中国', '美国']) dict_values(['北京', '华盛顿']) 北京 伊斯兰堡 ('法国', '巴黎')\n"
    }
   ],
   "source": [
    "#类型操作\n",
    "d = {'中国':'北京','美国':'华盛顿','法国':'巴黎'}\n",
    "'中国'in d\n",
    "print(d.keys(),d.values(),d.get('中国','伊斯兰堡'),d.get('巴基斯坦','伊斯兰堡'),d.popitem())"
   ]
  },
  {
   "cell_type": "code",
   "execution_count": 21,
   "metadata": {},
   "outputs": [],
   "source": [
    "d={} #定义空字典d\n",
    "d['a']=1;d['b']=2 #向d中新增两个键值对\n",
    "d['b']=2 #修改赋值时的第二个元素\n",
    "'c' in d #判断c是否在d中\n",
    "len(d) #d的长度\n",
    "d.clear() #清空d"
   ]
  },
  {
   "cell_type": "markdown",
   "metadata": {},
   "source": [
    "- 字典应用类型\n",
    "    - 映射无处不在，键值对无处不在\n",
    "    - 例子：统计数据出现次数，数据是键，次数是值\n",
    "    - 最主要作用：表达键值对数据，进而操作他它们\n",
    "    - 应用键来对字典遍历"
   ]
  },
  {
   "cell_type": "markdown",
   "metadata": {},
   "source": [
    "### 6.5 模块5：jieba库的使用\n",
    "- 中文文本需要通过分词获得单个词语\n",
    "- jieba是优秀的中文分词第三方库\n",
    "- jieba库提供三种分词模式，最简单的只需掌握一个函数\n",
    "- 利用中文词库确定汉字之间的关联概率\n",
    "- 三种模式\n",
    "    - 精确模式：文本精确切分开，没有冗余单词\n",
    "    - 全模式：把文中所有可能的词语扫描出来，有冗余\n",
    "    - 搜索引擎模式：在精确模式基础上，对长词语再次切分\n",
    "- 四个函数：\n",
    "    - `jieba.lcut(s)`：精确模式，返回一个列表类型的分词结果\n",
    "    - `jieba.lcut(s,cut_all=True)`：全模式，返回一个列表类型的分词结果\n",
    "    - `jieba.lcut_for_search(s)`：搜索引擎模式，返回一个列表类型的分分词结果\n",
    "    - `jieba.add_word(w)`：向分词词典种添加新词"
   ]
  },
  {
   "cell_type": "code",
   "execution_count": 18,
   "metadata": {},
   "outputs": [
    {
     "output_type": "stream",
     "name": "stdout",
     "text": "['中国', '是', '一个', '伟大', '的', '国家'] \n ['中国', '国是', '一个', '伟大', '的', '国家'] \n ['中国', '是', '一个', '伟大', '的', '国家'] \n None\n"
    }
   ],
   "source": [
    "#jieba库的函数\n",
    "import jieba\n",
    "s='中国是一个伟大的国家'\n",
    "print(jieba.lcut(s),'\\n',jieba.lcut(s,cut_all=True),'\\n',jieba.lcut_for_search(s),'\\n',jieba.add_word('python'))\n",
    ""
   ]
  },
  {
   "cell_type": "markdown",
   "metadata": {},
   "source": [
    "### 6.6 实例10：文本词频统计\n",
    "- 需求，分析文章出现哪些次，哪些词出现的最多（中文和英文）\n",
    "- 英文：Hamlet  \n",
    "- 中文：三国演义\n",
    "\n",
    "- 英文：噪音处理，归一化，提取单一单词作为第一步骤\n"
   ]
  },
  {
   "cell_type": "code",
   "execution_count": 74,
   "metadata": {},
   "outputs": [
    {
     "output_type": "stream",
     "name": "stdout",
     "text": "the        1138\nand         965\nto          754\nof          669\nyou         550\ni           542\na           542\nmy          514\nhamlet      462\nin          436\n"
    }
   ],
   "source": [
    "#CalHamletV\n",
    "#归一化文本\n",
    "def getText():\n",
    "    txt = open('Hamlet.txt','r').read()\n",
    "    txt = txt.lower()\n",
    "    for ch in '!\"#$%&()*+,-./:;<=>?@[\\\\]^_‘{|}~':\n",
    "        txt = txt.replace(ch,' ') #将文本中字符替换为空格\n",
    "    return txt\n",
    "\n",
    "hamletTxt = getText()\n",
    "words = hamletTxt.split()\n",
    "counts = {}\n",
    "for word in words:\n",
    "    counts[word] = counts.get(word,0)+1\n",
    "items = list(counts.items())\n",
    "items.sort(key = lambda x:x[1],reverse = True)\n",
    "for i in range(10):\n",
    "    word,count = items[i]\n",
    "    print('{0:<10}{1:>5}'.format(word,count))"
   ]
  },
  {
   "cell_type": "markdown",
   "metadata": {},
   "source": [
    "- 三国演义：jieba分词，无特殊符号等"
   ]
  },
  {
   "cell_type": "code",
   "execution_count": 80,
   "metadata": {},
   "outputs": [
    {
     "output_type": "stream",
     "name": "stdout",
     "text": "曹操          953\n孔明          836\n将军          772\n却说          656\n玄德          585\n关公          510\n丞相          491\n二人          469\n不可          440\n荆州          425\n玄德曰         390\n孔明曰         390\n不能          384\n如此          378\n张飞          358\n"
    }
   ],
   "source": [
    "#CalThreeKingdomsV1\n",
    "import jieba as j\n",
    "txt = open('三国演义.txt','r',encoding='utf-8').read()\n",
    "words = j.lcut(txt)\n",
    "counts={}\n",
    "for word in words:\n",
    "    if len(word) == 1:\n",
    "        continue\n",
    "    else:\n",
    "        counts[word] = counts.get(word,0)+1\n",
    "items = list(counts.items())\n",
    "items.sort(key = lambda x:x[1],reverse = True)\n",
    "for i in range(15):\n",
    "    word,count=items[i]\n",
    "    print('{0:<10}{1:>5}'.format(word,count))"
   ]
  },
  {
   "cell_type": "code",
   "execution_count": 93,
   "metadata": {},
   "outputs": [
    {
     "output_type": "stream",
     "name": "stdout",
     "text": "曹操         1451\n孔明         1383\n刘备         1252\n关羽          784\n张飞          358\n商议          344\n如何          338\n主公          331\n吕布          300\n赵云          278\n"
    }
   ],
   "source": [
    "#CalThreeKingdoms\n",
    "import jieba\n",
    "excludes = {\"将军\",\"却说\",\"荆州\",\"二人\",\"不可\",\"不能\",\"如此\",\"军马\",\"军士\",\"左右\"}\n",
    "txt = open(\"三国演义.txt\", \"r\", encoding='utf-8').read()\n",
    "words  = jieba.lcut(txt)\n",
    "counts = {}\n",
    "for word in words:\n",
    "    if len(word) == 1:\n",
    "        continue\n",
    "    elif word == \"诸葛亮\" or word == \"孔明曰\":\n",
    "        rword = \"孔明\"\n",
    "    elif word == \"关公\" or word == \"云长\":\n",
    "        rword = \"关羽\"\n",
    "    elif word == \"玄德\" or word == \"玄德曰\":\n",
    "        rword = \"刘备\"\n",
    "    elif word == \"孟德\" or word == \"丞相\":\n",
    "        rword = \"曹操\"\n",
    "    else:\n",
    "        rword = word\n",
    "    counts[rword] = counts.get(rword,0) + 1\n",
    "for word in excludes:\n",
    "    del counts[word]\n",
    "items = list(counts.items())\n",
    "items.sort(key=lambda x:x[1], reverse=True) \n",
    "for i in range(10):\n",
    "    word, count = items[i]\n",
    "    print (\"{0:<10}{1:>5}\".format(word, count))"
   ]
  },
  {
   "cell_type": "code",
   "execution_count": 94,
   "metadata": {},
   "outputs": [
    {
     "output_type": "stream",
     "name": "stdout",
     "text": "3\n"
    }
   ],
   "source": [
    "d= {'a': 1, 'b': 2, 'b': '3'}\n",
    "print(d['b'])"
   ]
  },
  {
   "cell_type": "markdown",
   "metadata": {},
   "source": [
    "\n",
    "### 数字不同数之和\n",
    "描述\n",
    "获得用户输入的一个整数N，输出N中所出现不同数字的和。‪‬‪‬‪‬‪‬‪‬‮‬‪‬‮‬‪‬‪‬‪‬‪‬‪‬‮‬‫‬‪‬‪‬‪‬‪‬‪‬‪‬‮‬‪‬‪‬‪‬‪‬‪‬‪‬‪‬‮‬‫‬‭‬‪‬‪‬‪‬‪‬‪‬‮‬‫‬‫‬‪‬‪‬‪‬‪‬‪‬‮‬‭\n",
    "\n",
    "例如：用户输入 123123123，其中所出现的不同数字为：1、2、3，这几个数字和为6。"
   ]
  },
  {
   "cell_type": "code",
   "execution_count": 97,
   "metadata": {},
   "outputs": [
    {
     "output_type": "stream",
     "name": "stdout",
     "text": "6\n"
    }
   ],
   "source": [
    "#数字不同数之和\n",
    "s = input()\n",
    "s = set(s)\n",
    "sum=0\n",
    "for i in s:\n",
    "    sum += int(i)\n",
    "print(sum)\n",
    ""
   ]
  },
  {
   "cell_type": "markdown",
   "metadata": {},
   "source": [
    "### 人名最多数统计\n",
    "\n",
    "\n",
    "描述\n",
    "编程模板中给出了一个字符串，其中包含了含有重复的人名，请直接输出出现最多的人名。‪‬‪‬‪‬‪‬‪‬‮‬‪‬‮‬‪‬‪‬‪‬‪‬‪‬‮‬‫‬‪‬‪‬‪‬‪‬‪‬‪‬‮‬‪‬‪‬‪‬‪‬‪‬‪‬‪‬‮‬‫‬‭‬‪‬‪‬‪‬‪‬‪‬‮‬‫‬‫‬‪‬‪‬‪‬‪‬‪‬‮‬‭‬‪‬\n",
    "\n",
    " ‪‬‪‬‪‬‪‬‪‬‮‬‪‬‮‬‪‬‪‬‪‬‪‬‪‬‮‬‫‬‪‬‪‬‪‬‪‬‪‬‪‬‮‬‪‬‪‬‪‬‪‬‪‬‪‬‪‬‮‬‫‬‭‬‪‬‪‬‪‬‪‬‪‬‮‬‫‬‫‬‪‬‪‬‪‬‪‬‪‬输入输出示例\n",
    "这里是个示例，展示输出格式，不是结果。"
   ]
  },
  {
   "cell_type": "code",
   "execution_count": 140,
   "metadata": {},
   "outputs": [
    {
     "output_type": "stream",
     "name": "stdout",
     "text": "赵敏\n"
    }
   ],
   "source": [
    "#输出字符串最多的值\n",
    "s = '''双儿 洪七公 赵敏 赵敏 逍遥子 鳌拜 殷天正 金轮法王 乔峰 杨过 洪七公 郭靖 \n",
    "       杨逍 鳌拜 殷天正 段誉 杨逍 慕容复 阿紫 慕容复 郭芙 乔峰 令狐冲 郭芙 \n",
    "       金轮法王 小龙女 杨过 慕容复 梅超风 李莫愁 洪七公 张无忌 梅超风 杨逍 \n",
    "       鳌拜 岳不群 黄药师 黄蓉 段誉 金轮法王 忽必烈 忽必烈 张三丰 乔峰 乔峰 \n",
    "       阿紫 乔峰 金轮法王 袁冠南 张无忌 郭襄 黄蓉 李莫愁 赵敏 赵敏 郭芙 张三丰 \n",
    "       乔峰 赵敏 梅超风 双儿 鳌拜 陈家洛 袁冠南 郭芙 郭芙 杨逍 赵敏 金轮法王 \n",
    "       忽必烈 慕容复 张三丰 赵敏 杨逍 令狐冲 黄药师 袁冠南 杨逍 完颜洪烈 殷天正 \n",
    "       李莫愁 阿紫 逍遥子 乔峰 逍遥子 完颜洪烈 郭芙 杨逍 张无忌 杨过 慕容复 \n",
    "       逍遥子 虚竹 双儿 乔峰 郭芙 黄蓉 李莫愁 陈家洛 杨过 忽必烈 鳌拜 王语嫣 \n",
    "       洪七公 韦小宝 阿朱 梅超风 段誉 岳灵珊 完颜洪烈 乔峰 段誉 杨过 杨过 慕容复 \n",
    "       黄蓉 杨过 阿紫 杨逍 张三丰 张三丰 赵敏 张三丰 杨逍 黄蓉 金轮法王 郭襄 \n",
    "       张三丰 令狐冲 赵敏 郭芙 韦小宝 黄药师 阿紫 韦小宝 金轮法王 杨逍 令狐冲 阿紫 \n",
    "       洪七公 袁冠南 双儿 郭靖 鳌拜 谢逊 阿紫 郭襄 梅超风 张无忌 段誉 忽必烈 \n",
    "       完颜洪烈 双儿 逍遥子 谢逊 完颜洪烈 殷天正 金轮法王 张三丰 双儿 郭襄 阿朱 \n",
    "       郭襄 双儿 李莫愁 郭襄 忽必烈 金轮法王 张无忌 鳌拜 忽必烈 郭襄 令狐冲 \n",
    "       谢逊 梅超风 殷天正 段誉 袁冠南 张三丰 王语嫣 阿紫 谢逊 杨过 郭靖 黄蓉 \n",
    "       双儿 灭绝师太 段誉 张无忌 陈家洛 黄蓉 鳌拜 黄药师 逍遥子 忽必烈 赵敏 \n",
    "       逍遥子 完颜洪烈 金轮法王 双儿 鳌拜 洪七公 郭芙 郭襄 赵敏'''\n",
    "ls=s.split()\n",
    "counts={}\n",
    "for i in ls:\n",
    "    counts[i]=counts.get(i,0)+1\n",
    "max_name,max_cnt='',0\n",
    "for name in counts:\n",
    "    if counts[name]>max_cnt:\n",
    "        max_name,max_cnt = i,counts[i]\n",
    "print(max_name)"
   ]
  },
  {
   "cell_type": "code",
   "execution_count": 132,
   "metadata": {},
   "outputs": [
    {
     "output_type": "stream",
     "name": "stdout",
     "text": "赵敏\n"
    }
   ],
   "source": [
    "s = '''双儿 洪七公 赵敏 赵敏 逍遥子 鳌拜 殷天正 金轮法王 乔峰 杨过 洪七公 郭靖 \n",
    "       杨逍 鳌拜 殷天正 段誉 杨逍 慕容复 阿紫 慕容复 郭芙 乔峰 令狐冲 郭芙 \n",
    "       金轮法王 小龙女 杨过 慕容复 梅超风 李莫愁 洪七公 张无忌 梅超风 杨逍 \n",
    "       鳌拜 岳不群 黄药师 黄蓉 段誉 金轮法王 忽必烈 忽必烈 张三丰 乔峰 乔峰 \n",
    "       阿紫 乔峰 金轮法王 袁冠南 张无忌 郭襄 黄蓉 李莫愁 赵敏 赵敏 郭芙 张三丰 \n",
    "       乔峰 赵敏 梅超风 双儿 鳌拜 陈家洛 袁冠南 郭芙 郭芙 杨逍 赵敏 金轮法王 \n",
    "       忽必烈 慕容复 张三丰 赵敏 杨逍 令狐冲 黄药师 袁冠南 杨逍 完颜洪烈 殷天正 \n",
    "       李莫愁 阿紫 逍遥子 乔峰 逍遥子 完颜洪烈 郭芙 杨逍 张无忌 杨过 慕容复 \n",
    "       逍遥子 虚竹 双儿 乔峰 郭芙 黄蓉 李莫愁 陈家洛 杨过 忽必烈 鳌拜 王语嫣 \n",
    "       洪七公 韦小宝 阿朱 梅超风 段誉 岳灵珊 完颜洪烈 乔峰 段誉 杨过 杨过 慕容复 \n",
    "       黄蓉 杨过 阿紫 杨逍 张三丰 张三丰 赵敏 张三丰 杨逍 黄蓉 金轮法王 郭襄 \n",
    "       张三丰 令狐冲 赵敏 郭芙 韦小宝 黄药师 阿紫 韦小宝 金轮法王 杨逍 令狐冲 阿紫 \n",
    "       洪七公 袁冠南 双儿 郭靖 鳌拜 谢逊 阿紫 郭襄 梅超风 张无忌 段誉 忽必烈 \n",
    "       完颜洪烈 双儿 逍遥子 谢逊 完颜洪烈 殷天正 金轮法王 张三丰 双儿 郭襄 阿朱 \n",
    "       郭襄 双儿 李莫愁 郭襄 忽必烈 金轮法王 张无忌 鳌拜 忽必烈 郭襄 令狐冲 \n",
    "       谢逊 梅超风 殷天正 段誉 袁冠南 张三丰 王语嫣 阿紫 谢逊 杨过 郭靖 黄蓉 \n",
    "       双儿 灭绝师太 段誉 张无忌 陈家洛 黄蓉 鳌拜 黄药师 逍遥子 忽必烈 赵敏 \n",
    "       逍遥子 完颜洪烈 金轮法王 双儿 鳌拜 洪七公 郭芙 郭襄 赵敏'''\n",
    "ls = s.split()\n",
    "d = {}\n",
    "for i in ls:\n",
    "    d[i] = d.get(i, 0) + 1\n",
    "max_name, max_cnt = \"\", 0\n",
    "for k in d:\n",
    "    if d[k] > max_cnt:\n",
    "        max_name, max_cnt = k, d[k]\n",
    "print(max_name)"
   ]
  }
 ]
}