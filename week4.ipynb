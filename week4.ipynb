{
 "nbformat": 4,
 "nbformat_minor": 2,
 "metadata": {
  "language_info": {
   "name": "python",
   "codemirror_mode": {
    "name": "ipython",
    "version": 3
   },
   "version": "3.8.1-final"
  },
  "orig_nbformat": 2,
  "file_extension": ".py",
  "mimetype": "text/x-python",
  "name": "python",
  "npconvert_exporter": "python",
  "pygments_lexer": "ipython3",
  "version": 3,
  "kernelspec": {
   "name": "python3",
   "display_name": "Python 3"
  }
 },
 "cells": [
  {
   "cell_type": "markdown",
   "execution_count": null,
   "metadata": {},
   "outputs": [],
   "source": [
    "## 第四周 程序的控制结构\n",
    "### 4.1 程序的分支结构\n",
    "### 4.2 实例5：身体质量指数BMI\n",
    "### 4.3 程序的循环结构\n",
    "### 4.4 模块3：ramdom库的使用\n",
    "### 4.5 实例6：圆周率的计算"
   ]
  },
  {
   "cell_type": "markdown",
   "execution_count": null,
   "metadata": {},
   "outputs": [],
   "source": [
    "### 4.1 程序的分支结构\n",
    "- 1. 单分支结构\n",
    "    - 根据判断条件结果选择不同前进路径的运行方式\n",
    "        - ```python\n",
    "        if<条件>:\n",
    "            <语句块1>\n",
    "        ```\n",
    "    - 见到`if ture: `后面的语句一定被执行\n",
    "    - 见到`if not ture:`后面的语句一定不会被执行\n",
    "- 2. 二分支结构\n",
    "    - 根据判断条件结果选择不同前进路径的运行方式\n",
    "        - ```python\n",
    "        if<条件>:\n",
    "            <语句块>\n",
    "        else:\n",
    "            <语句块2>\n",
    "        ```\n",
    "        - 紧凑形式：`<表达式1> if <条件> else <表达式2>`\n",
    "            - 对应输出不是语句，而是表达式"
   ]
  },
  {
   "cell_type": "code",
   "execution_count": null,
   "metadata": {},
   "outputs": [],
   "source": [
    "#猜数字\n",
    "guess = eval(input())\n",
    "print('猜{}了'.format('对'if guess == 99 else '错'))"
   ]
  },
  {
   "cell_type": "markdown",
   "execution_count": null,
   "metadata": {},
   "outputs": [],
   "source": [
    "- 3. 多分支结构\n",
    "     - ```python\n",
    "        if<条件>:\n",
    "            <语句块1>\n",
    "        elif<条件>:\n",
    "             <语句块1>\n",
    "          ···\n",
    "        else:\n",
    "            <语句块n>\n",
    "        ```\n",
    "    - 应当注意语句之间的逻辑包含关系"
   ]
  },
  {
   "cell_type": "code",
   "execution_count": null,
   "metadata": {},
   "outputs": [],
   "source": [
    "#不同成绩分级\n",
    "score = eval(input())\n",
    "if score >= 90:\n",
    "    grade = 'A'\n",
    "elif score >= 80:\n",
    "    grade = 'B'\n",
    "elif score >= 70:\n",
    "    grade = 'C'\n",
    "elif score >= 60:\n",
    "    grade = 'D'\n",
    "print('输入成绩属于级别{}'.format(grade))"
   ]
  },
  {
   "cell_type": "markdown",
   "execution_count": null,
   "metadata": {},
   "outputs": [],
   "source": [
    "- 4. 条件判断及组合\n",
    "    - and：与，or:或，not：非\n",
    "- 5. 程序的异常处理 \n",
    "    - 异常处理的基本使用：\n",
    "        - ```\n",
    "        try:\n",
    "            <语句块1>\n",
    "        except:\n",
    "            <语句块2>\n",
    "        ```\n",
    "    - 进一步了解异常类型：\n",
    "        - ```\n",
    "        try:\n",
    "            <语句块1>\n",
    "        except<异常类型>:\n",
    "            <语句块2>\n",
    "        ```\n",
    "        高级应用：\n",
    "         - ``` python\n",
    "        try:\n",
    "            <语句块1>\n",
    "        except:\n",
    "            <语句块2>\n",
    "        else：\n",
    "            <语句块3>  #不发生异常时执行\n",
    "        finally：\n",
    "            <语句块4>  #一定执行\n",
    "        ``` "
   ]
  },
  {
   "cell_type": "code",
   "execution_count": null,
   "metadata": {},
   "outputs": [],
   "source": [
    "# #平方操作\n",
    "# #未加异常处理\n",
    "# num = eval(input('请输入一个整数：'))\n",
    "# print(pow(num,2))\n",
    "\n",
    "#添加异常处理\n",
    "try:\n",
    "    num = eval(input('请输入一个整数：'))\n",
    "    print(pow(num,2))\n",
    "except NameError:\n",
    "    print('输入不是整数')"
   ]
  },
  {
   "cell_type": "markdown",
   "execution_count": null,
   "metadata": {},
   "outputs": [],
   "source": [
    "### 4.2 实例5：身体质量指数BMI"
   ]
  },
  {
   "cell_type": "code",
   "execution_count": null,
   "metadata": {},
   "outputs": [],
   "source": [
    "#CalBMIv1.py\n",
    "height, weight = eval(input(\"请输入身高(米)和体重(公斤)[逗号隔开]: \"))\n",
    "bmi = weight / pow(height, 2)\n",
    "print(\"BMI 数值为：{:.2f}\".format(bmi))\n",
    "who = \"\"\n",
    "if bmi < 18.5:\n",
    "    who = \"偏瘦\"\n",
    "elif 18.5 <= bmi < 25:\n",
    "    who = \"正常\"\n",
    "elif 25 <= bmi < 30:\n",
    "    who = \"偏胖\"\n",
    "else:\n",
    "    who = \"肥胖\"\n",
    "print(\"BMI 指标为:国际'{0}'\".format(who))"
   ]
  },
  {
   "cell_type": "code",
   "execution_count": null,
   "metadata": {},
   "outputs": [],
   "source": [
    "#CalBMIv2.py\n",
    "height, weight = eval(input(\"请输入身高(米)和体重(公斤)[逗号隔开]: \"))\n",
    "bmi = weight / pow(height, 2)\n",
    "print(\"BMI 数值为：{:.2f}\".format(bmi))\n",
    "nat = \"\"\n",
    "if bmi < 18.5:\n",
    "    nat = \"偏瘦\"\n",
    "elif 18.5 <= bmi < 24:\n",
    "    nat = \"正常\"\n",
    "elif 24 <= bmi < 28:\n",
    "    nat = \"偏胖\"\n",
    "else:\n",
    "    nat = \"肥胖\"\n",
    "print(\"BMI 指标为:国内'{0}'\".format(nat))"
   ]
  },
  {
   "cell_type": "code",
   "execution_count": null,
   "metadata": {},
   "outputs": [],
   "source": [
    "#CalBMIv3.py\n",
    "height, weight = eval(input(\"请输入身高(米)和体重(公斤)[逗号隔开]: \"))\n",
    "bmi = weight / pow(height, 2)\n",
    "print(\"BMI 数值为：{:.2f}\".format(bmi))\n",
    "who, nat = \"\", \"\"\n",
    "if bmi < 18.5:\n",
    "    who, nat = \"偏瘦\", \"偏瘦\"\n",
    "elif 18.5 <= bmi < 24:\n",
    "    who, nat = \"正常\", \"正常\"\n",
    "elif 24 <= bmi < 25:\n",
    "    who, nat = \"正常\", \"偏胖\"\n",
    "elif 25 <= bmi < 28:\n",
    "    who, nat = \"偏胖\", \"偏胖\"\n",
    "elif 28 <= bmi < 30:\n",
    "    who, nat = \"偏胖\", \"肥胖\"\n",
    "else:\n",
    "    who, nat = \"肥胖\", \"肥胖\"\n",
    "print(\"BMI 指标为:国际'{0}', 国内'{1}'\".format(who, nat))"
   ]
  },
  {
   "cell_type": "markdown",
   "execution_count": null,
   "metadata": {},
   "outputs": [],
   "source": [
    "### 4.3 程序的循环结构\n",
    "- 遍历某个结构形成的循环运行方式\n",
    "    - ```\n",
    "    for <循环变量> in <遍历结构>:\n",
    "        <语句块>\n",
    "    ```\n",
    "    - 由保留字fo和in组成，完整遍历所有元素后结束\n",
    "    - 每次循环，所获得元素放入循环变量，并执行一次语句块  \n",
    "     - 计数循环（N次） \n",
    "        - ```\n",
    "        for <循环变量> in range(N):\n",
    "            <语句块>\n",
    "        for <循环变量> in range(M,N,K):\n",
    "            <语句块>\n",
    "        ```\n"
   ]
  },
  {
   "cell_type": "code",
   "execution_count": null,
   "metadata": {},
   "outputs": [],
   "source": []
  },
  {
   "cell_type": "code",
   "execution_count": null,
   "metadata": {},
   "outputs": [],
   "source": [
    "for i in range(1,6,2):\n",
    "    print('hello',i)"
   ]
  },
  {
   "cell_type": "code",
   "execution_count": null,
   "metadata": {},
   "outputs": [],
   "source": [
    "#字符串遍历循环\n",
    "for c in 'python123':\n",
    "    print(c,end =',')"
   ]
  },
  {
   "cell_type": "code",
   "execution_count": null,
   "metadata": {},
   "outputs": [],
   "source": [
    "#列表遍历循环\n",
    "for item in [123,'py',456]:\n",
    "    print(item,end=',')"
   ]
  },
  {
   "cell_type": "markdown",
   "execution_count": null,
   "metadata": {},
   "outputs": [],
   "source": [
    "- 文件遍历循环\n",
    "  - ```\n",
    "  for line in fi:\n",
    "    <语句块>\n",
    "    \n",
    " ```\n",
    "fi是一个文件标识符，遍历其每行，产生循环\n",
    "- 无线循环：由条件控制的循环运行方式\n",
    "    - ```\n",
    "        while<条件>:\n",
    "            <语句块>\n",
    "    ```"
   ]
  },
  {
   "cell_type": "code",
   "execution_count": 1,
   "metadata": {},
   "outputs": [
    {
     "name": "stdout",
     "output_type": "stream",
     "text": "2\n1\n0\n"
    }
   ],
   "source": [
    "#例子\n",
    "a=3\n",
    "while a>0:\n",
    "    a-=1\n",
    "    print(a)"
   ]
  },
  {
   "cell_type": "markdown",
   "metadata": {},
   "source": [
    "- 循环控制保留字\n",
    "- `break`和`continue`\n",
    "    - break跳出并结束当前整个循环，执行循环后的语句\n",
    "    - continue结束当次循环，继续执行后续次数循环\n",
    "    - breaki和 continue可以与for和 while循环搭配使用\n"
   ]
  },
  {
   "cell_type": "code",
   "execution_count": 3,
   "metadata": {},
   "outputs": [
    {
     "name": "stdout",
     "output_type": "stream",
     "text": "p,y,h,o,n,"
    }
   ],
   "source": [
    "#例子\n",
    "for c in 'python':\n",
    "    if c == 't':\n",
    "        continue\n",
    "    print(c,end=',')"
   ]
  },
  {
   "cell_type": "code",
   "execution_count": 4,
   "metadata": {},
   "outputs": [
    {
     "name": "stdout",
     "output_type": "stream",
     "text": "p,y,"
    }
   ],
   "source": [
    "#例子\n",
    "for c in 'python':\n",
    "    if c == 't':\n",
    "        break\n",
    "    print(c,end=',')"
   ]
  },
  {
   "cell_type": "code",
   "execution_count": 6,
   "metadata": {},
   "outputs": [
    {
     "name": "stdout",
     "output_type": "stream",
     "text": "p,y,t,h,o,n,\n\np,y,t,h,o,\n\np,y,t,h,\n\np,y,t,\n\np,y,\n\np,\n\n"
    }
   ],
   "source": [
    "#例子\n",
    "s='python'\n",
    "while s != '':\n",
    "    for c in s:\n",
    "        print(c,end=\",\")\n",
    "    s=s[:-1]\n",
    "    print('\\n')"
   ]
  },
  {
   "cell_type": "code",
   "execution_count": 7,
   "metadata": {},
   "outputs": [
    {
     "name": "stdout",
     "output_type": "stream",
     "text": "p,y,\n\np,y,\n\np,y,\n\np,y,\n\np,y,\n\np,\n\n"
    }
   ],
   "source": [
    "#例子\n",
    "s='python'\n",
    "while s != '':\n",
    "    for c in s:\n",
    "        if c=='t':\n",
    "            break\n",
    "        print(c,end=\",\")\n",
    "    s=s[:-1]\n",
    "    print('\\n')"
   ]
  },
  {
   "cell_type": "code",
   "execution_count": 8,
   "metadata": {},
   "outputs": [
    {
     "name": "stdout",
     "output_type": "stream",
     "text": "p,y,h,o,n,\n\np,y,h,o,\n\np,y,h,\n\np,y,\n\np,y,\n\np,\n\n"
    }
   ],
   "source": [
    "#例子\n",
    "s='python'\n",
    "while s != '':\n",
    "    for c in s:\n",
    "        if c=='t':\n",
    "            continue\n",
    "        print(c,end=\",\")\n",
    "    s=s[:-1]\n",
    "    print('\\n')"
   ]
  },
  {
   "cell_type": "markdown",
   "metadata": {},
   "source": [
    "- 循环的高级用法\n",
    "    - 循环与else\n",
    "        - 当循环没有被break语句退出时，执行else语句块\n",
    "        - 这里else的用法与异常处理中else用法相似"
   ]
  },
  {
   "cell_type": "code",
   "execution_count": 14,
   "metadata": {},
   "outputs": [
    {
     "name": "stdout",
     "output_type": "stream",
     "text": "pyhon正常退出\n"
    }
   ],
   "source": [
    "#循环与else\n",
    "for c in 'python':\n",
    "    if c == 't':\n",
    "        continue\n",
    "    print(c,end='')\n",
    "else:\n",
    "    print('正常退出')"
   ]
  },
  {
   "cell_type": "code",
   "execution_count": 15,
   "metadata": {},
   "outputs": [
    {
     "name": "stdout",
     "output_type": "stream",
     "text": "py"
    }
   ],
   "source": [
    "#循环与else\n",
    "for c in 'python':\n",
    "    if c == 't':\n",
    "        break\n",
    "    print(c,end='')\n",
    "else:\n",
    "    print('正常退出')"
   ]
  },
  {
   "cell_type": "markdown",
   "metadata": {},
   "source": [
    "### 4.4 模块3：ramdom库的使用\n",
    "- random库是使用随机数的Python标准库\n",
    "- 基本随机数函数\n",
    "    - 随机数种子通过梅森旋转算法产生随机序列，序列中每一个数都是随机数\n",
    "    - `seed()`:初始化给定的随机数种子，默认为当前系统时间,使用种子可以再现随机过程\n",
    "    - `random()`:生成一个[0.0，1.0）之间的随机小数"
   ]
  },
  {
   "cell_type": "code",
   "execution_count": 16,
   "metadata": {},
   "outputs": [
    {
     "name": "stdout",
     "output_type": "stream",
     "text": "0.8444218515250481\n0.7579544029403025\n"
    }
   ],
   "source": [
    "import random as r\n",
    "r.seed(0)\n",
    "print(r.random())\n",
    "print(r.random())"
   ]
  },
  {
   "cell_type": "markdown",
   "metadata": {},
   "source": [
    "- 扩展随机数函数\n",
    "- 六个常用"
   ]
  },
  {
   "cell_type": "code",
   "execution_count": 17,
   "metadata": {},
   "outputs": [
    {
     "data": {
      "text/plain": "63"
     },
     "execution_count": 17,
     "metadata": {},
     "output_type": "execute_result"
    }
   ],
   "source": [
    "r.randint(10,100)  #生成一个两数之间的随机数"
   ]
  },
  {
   "cell_type": "code",
   "execution_count": 18,
   "metadata": {},
   "outputs": [
    {
     "data": {
      "text/plain": "15"
     },
     "execution_count": 18,
     "metadata": {},
     "output_type": "execute_result"
    }
   ],
   "source": [
    "r.randrange(10,100,5) #10到100之间随机选取一个以5为步长的整数"
   ]
  },
  {
   "cell_type": "code",
   "execution_count": 19,
   "metadata": {},
   "outputs": [
    {
     "data": {
      "text/plain": "16968"
     },
     "execution_count": 19,
     "metadata": {},
     "output_type": "execute_result"
    }
   ],
   "source": [
    "r.getrandbits(16) #生成一个16比特长的随机整数"
   ]
  },
  {
   "cell_type": "code",
   "execution_count": 20,
   "metadata": {},
   "outputs": [
    {
     "data": {
      "text/plain": "96.89183977257255"
     },
     "execution_count": 20,
     "metadata": {},
     "output_type": "execute_result"
    }
   ],
   "source": [
    "r.uniform(10,100) #生成一个10到100之间的随机小数"
   ]
  },
  {
   "cell_type": "code",
   "execution_count": 23,
   "metadata": {},
   "outputs": [
    {
     "data": {
      "text/plain": "8"
     },
     "execution_count": 23,
     "metadata": {},
     "output_type": "execute_result"
    }
   ],
   "source": [
    "r.choice([1,2,3,4,5,6,67,8])  #从列表里随街选择一个数"
   ]
  },
  {
   "cell_type": "code",
   "execution_count": 32,
   "metadata": {},
   "outputs": [
    {
     "name": "stdout",
     "output_type": "stream",
     "text": "[8, 6, 2, 1, 3, 5, 9, 5, 7, 0, 3, 9]\n"
    }
   ],
   "source": [
    "s=[1,2,3,3,5,6,7,8,9,9,0,5]\n",
    "r.shuffle(s) #打乱序列顺序\n",
    "print(s)"
   ]
  },
  {
   "cell_type": "markdown",
   "metadata": {},
   "source": [
    "能力要求：\n",
    "- 能够利用随机数种子产生\"确定\"伪随机数\n",
    "- 能够产生随机整数\n",
    "- 能够对序列类型进行随机操作"
   ]
  },
  {
   "cell_type": "markdown",
   "metadata": {},
   "source": [
    "### 4.5 实例6：圆周率的计算\n",
    "- 蒙特卡罗方法计算圆周率\n",
    "- 公式$\\pi=\\sum_{k=0}^\\infty[\\frac{1}{16^k}(\\frac{4}{8k+1}-\\frac{2}{8k+4}-\\frac{1}{8k+5}-\\frac{1}{8k+6})]$"
   ]
  },
  {
   "cell_type": "code",
   "execution_count": 39,
   "metadata": {},
   "outputs": [
    {
     "name": "stdout",
     "output_type": "stream",
     "text": "圆周率的值是：3.141592653589793\n"
    }
   ],
   "source": [
    "#CalPiV1,公式\n",
    "pi = 0\n",
    "N = 100\n",
    "for k in range(N):\n",
    "    pi += 1/pow(16,k)*(4/(8*k+1)-2/(8*k+4)-1/(8*k+5)-1/(8*k+6))\n",
    "print('圆周率的值是：{}'.format(pi))"
   ]
  },
  {
   "cell_type": "code",
   "execution_count": 48,
   "metadata": {},
   "outputs": [
    {
     "name": "stdout",
     "output_type": "stream",
     "text": "圆周率的值是：3.1419168\n运行时间是：6.87932\n"
    }
   ],
   "source": [
    "#CalPiV1,蒙特卡洛方法\n",
    "from random import random\n",
    "from time import perf_counter\n",
    "darts = 1000*1000*10\n",
    "hits = 0.0\n",
    "start = perf_counter()\n",
    "for i in range (1,darts+1):\n",
    "    x,y = random(),random() #x,y是在（0，1）之间的随机数\n",
    "    dist = pow(x**2+y**2,0.5)\n",
    "    if dist <= 1.0:\n",
    "        hits +=1\n",
    "pi = 4*(hits/darts)\n",
    "print('圆周率的值是：{}\\n运行时间是：{:.5f}'.format(pi,perf_counter()-start))"
   ]
  },
  {
   "cell_type": "markdown",
   "metadata": {},
   "source": [
    "### 四位玫瑰数 \n",
    "   ‪‬‪‬‪‬‪‬‪‬‮‬‪‬‮‬‪‬‪‬‪‬‪‬‪‬‮‬‫‬‪‬‪‬‪‬‪‬‪‬‪‬‮‬‪‬‪‬‪‬‪‬‪‬‪‬‪‬‮‬‫‬‭‬‪‬‪‬‪‬‪‬‪‬‮‬‫‬‫‬‪‬‪‬‪‬‪‬‪‬‮‬四位玫瑰数是4位数的自幂数。自幂数是指一个 n 位数，它的每个位上的数字的 n 次幂之和等于它本身。  \n",
    "\n",
    "   ‪‬‪‬‪‬‪‬‪‬‮‬‪‬‮‬‪‬‪‬‪‬‪‬‪‬‮‬‫‬‪‬‪‬‪‬‪‬‪‬‪‬‮‬‪‬‪‬‪‬‪‬‪‬‪‬‪‬‮‬‫‬‭‬‪‬‪‬‪‬‪‬‪‬‮‬‫‬‫‬‪‬‪‪‬‪‬‪‬‮‬‭‬‪例如：当n为3时，有1^3 + 5^3 + 3^3 = 153，153即是n为3时的一个自幂数，3位数的自幂数被称为水仙花数。\n",
    "\n",
    "‪‬‪‬‪‬‪‬‪‬‮‬‪‬‮‬‪‬‪‬‪‬‪‬‪‬‮‬‫‬‪‬‪‬‪‬‪‬‪‬‪‬‮‬‪‬‪‬‪‬‪‬‪‬‪‬‪‬‮‬‫‬‭‬‪‬‪‬‪‬‪‬‪‬‮‬‫‬‫‬‪‬‪‬‪‬‪‬‪‬‮‬‭‬请输出所有4位数的四位玫瑰数，按照从小到大顺序，每个数字一行。‪‬‪‬‪‬‪‬‪‬‮‬‪‬‮‬‪‬‪‬‪‬‪‬‪‬‮‬‫‬‪‬‪‬‪‬‪‬‪‬‪‬‮‬‪‬‪‬‪‬‪‬‪‬‪‬‪‬‮‬‫‬‭‬‪‬‪‬‪‬‪‬‪‬‮‬‫‬‫‬‪‬‪‬‪‬‪‬‪‬‮‬‭‬"
   ]
  },
  {
   "cell_type": "code",
   "execution_count": 7,
   "metadata": {},
   "outputs": [
    {
     "name": "stdout",
     "output_type": "stream",
     "text": "1634\n8208\n9474\n"
    }
   ],
   "source": [
    "from time import perf_counter as p\n",
    "#start = p()\n",
    "for i in range(1000,10000):\n",
    "    i = str(i)\n",
    "    if eval(i) == pow(eval(i[0]),4)+pow(eval(i[1]),4)+pow(eval(i[2]),4)+pow(eval(i[3]),4):\n",
    "        print(i)\n",
    "#print(p()-start)"
   ]
  },
  {
   "cell_type": "markdown",
   "metadata": {},
   "source": [
    "### 100以内素数之和\n",
    "\n",
    "求100以内所有素数之和并输出。 ‪‬‪‬‪‬‪‬‪‬‮‬‪‬‮‬‪‬‪‬‪‬‪‬‪‬‮‬‫‬‪‬‪‬‪‬‪‬‪‬‪‬‮‬‪‬‪‬‪‬‪‬‪‬‪‬‪‬‮‬‫‬‭‬‪‬‪‬‪‬‪‬‪‬‮‬‫‬‫‬‪‬‪‬‪‬‪‬‪‬‮‬‭‬‪‬\n",
    "\n",
    "素数指从大于1，且仅能被1和自己整除的整数。‪‬‪‬‪‬‪‬‪‬‮‬‪‬‮‬‪‬‪‬‪‬‪‬‪‬‮‬‫‬‪‬‪‬‪‬‪‬‪‬‪‬‮‬‪‬‪‬‪‬‪‬‪‬‪‬‪‬‮‬‫‬‭‬‪‬‪‬‪‬‪‬‪‬‮‬‫‬‫‬‪‬‪‬‪‬‪‬‪‬‮‬‭‬‪‬\n",
    "\n",
    "提示：可以逐一判断100以内每个数是否为素数，然后求和。"
   ]
  },
  {
   "cell_type": "code",
   "execution_count": 38,
   "metadata": {},
   "outputs": [
    {
     "name": "stdout",
     "output_type": "stream",
     "text": "1060\n"
    }
   ],
   "source": [
    "sum = 0\n",
    "for i in range(2,100):\n",
    "    for j in range(2,i):\n",
    "        if i % j == 0:\n",
    "            break\n",
    "    else:\n",
    "        #print(i)\n",
    "        sum+=i\n",
    "print(sum)      "
   ]
  },
  {
   "cell_type": "code",
   "execution_count": 32,
   "metadata": {},
   "outputs": [
    {
     "name": "stdout",
     "output_type": "stream",
     "text": "1060\n"
    }
   ],
   "source": [
    "sum = 0\n",
    "for i in range(2,100):\n",
    "    for k in range(2,i):\n",
    "        if i % k == 0:\n",
    "            break\n",
    "    else:                      #是正常退出的都是素数，然后都求和就可以了\n",
    "            sum += i\n",
    "print(sum)"
   ]
  }
 ]
}