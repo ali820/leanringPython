{
 "cells": [
  {
   "cell_type": "markdown",
   "metadata": {},
   "source": [
    "## Week8 程序设计方法\n",
    "### 8.1 实例13：体育竞技分析\n",
    "### 8.2 python程序设计思维\n",
    "### 8.3 python第三方库安装\n",
    "### 8.4 模块7：os库的使用\n",
    "### 8.5 实例14：第三方库自动安装脚本\n"
   ]
  },
  {
   "cell_type": "markdown",
   "metadata": {},
   "source": [
    "### 8.1 实例13：体育竞技分析\n",
    "- 问题分析：毫厘是多少？如何科学分析体育竞技比赛\n",
    "- 输入：球员水平\n",
    "- 输出：可预测比赛成绩\n",
    "- 计算思维：抽象+自动化\n",
    "    - 模拟：抽象比赛过程+自动化执行N场比赛\n",
    "    - N越大，比赛结果分析越科学\n",
    "- 规则：\n",
    "    - 双人击球：A&B，回合制，5局3胜\n",
    "    - 开始时一方先发球，直至判分，接下来胜者发球\n",
    "    - 球员只能在发球局得分，15分胜一局\n",
    "- 自顶向下（设计）：\n",
    "    - 将一个总问题表达为若干小问题的组成形式\n",
    "    - 使用同样的方法进一步分解小问题\n",
    "    - 直至，小问题可以用计算机简单明了解决\n",
    "- 自底向上（执行）：\n",
    "    - 分单元测试，逐步组装\n",
    "    - 按照自顶向下的相反路径操作\n",
    "    - 直至系统各部分组装的思路都经过测试和验证\n",
    "\n",
    "- 程序总体框及步骤：\n",
    "    - 步骤1：打印程序的介绍性信息式\n",
    "    - 步骤2：获得程序运行参数：proA，proB，n\n",
    "    - 步骤3：利用球员A和B的能力值，模拟n局比赛\n",
    "    - 步骤4：输出球员A和B获胜的场次及概率\n",
    "- 四个函数完成四个步骤"
   ]
  },
  {
   "cell_type": "code",
   "execution_count": 11,
   "metadata": {},
   "outputs": [
    {
     "output_type": "stream",
     "name": "stdout",
     "text": "这个程序模拟两个选手A和B的某种竞技比赛\n程序运行需要A和B的能力值（以0到1之间的小数表示）\n竞技分析开始，共进行10000场比赛\n选手A获胜10000场比赛，占比100.0%\n选手B获胜0场比赛，占比0.0%\n"
    }
   ],
   "source": [
    "#Sport\n",
    "from random import random\n",
    "\n",
    "#主函数\n",
    "def main():\n",
    "    printIntro()\n",
    "    probA,probB,n=getInputs()\n",
    "    winsA,winsB = simNGames(n,probA,probB)\n",
    "    printSummary(winsA,winsB)\n",
    "\n",
    "#打印介绍信息\n",
    "def printIntro():\n",
    "    print('这个程序模拟两个选手A和B的某种竞技比赛')\n",
    "    print('程序运行需要A和B的能力值（以0到1之间的小数表示）')\n",
    "\n",
    "#获取输入\n",
    "def getInputs():\n",
    "    a = eval(input('请输入选手A的能力值（0-1）：'))\n",
    "    b = eval(input('请输入选手B的能力值（0-1）：'))\n",
    "    n = eval(input('请输入比赛的场次：'))\n",
    "    return a,b,n\n",
    "\n",
    "#模拟n场比赛\n",
    "def simNGames(n,probA,probB):\n",
    "    winsA,winsB = 0,0\n",
    "    for i in range(n):\n",
    "        scoreA,scoreB = simOneGame(probA,probB)\n",
    "        if scoreA > scoreB:\n",
    "            winsA += 1\n",
    "        else:\n",
    "            winsB += 1\n",
    "    return winsA,winsB\n",
    "\n",
    "#模拟一场比赛\n",
    "def simOneGame(probA,probB):\n",
    "    scoreA,scoreB = 0,0\n",
    "    serving = 'A'\n",
    "    while not gameOver(scoreA,scoreB):\n",
    "        if serving == 'A':\n",
    "            if random() < probA:\n",
    "                scoreA += 1\n",
    "            else:\n",
    "                serving = 'B'\n",
    "        else:\n",
    "            if serving == 'B':\n",
    "                if random() < probB:\n",
    "                    scoreB += 1\n",
    "                else:\n",
    "                    serving = 'A'\n",
    "    return scoreA,scoreB\n",
    "\n",
    "#判断比赛是否结束\n",
    "def gameOver(a,b):\n",
    "    return a == 15 or b == 15\n",
    "\n",
    "            \n",
    "#表示模拟结果\n",
    "def printSummary(winsA,winsB):\n",
    "    n = winsA + winsB\n",
    "    print('竞技分析开始，共进行{}场比赛'.format(n))\n",
    "    print('选手A获胜{}场比赛，占比{:0.1%}'.format(winsA,winsA/n))\n",
    "    print('选手B获胜{}场比赛，占比{:0.1%}'.format(winsB,winsB/n))\n",
    "\n",
    "main()"
   ]
  },
  {
   "cell_type": "markdown",
   "metadata": {},
   "source": [
    "### 8.2 python程序设计思维\n",
    "- 三大思维：\n",
    "    - 逻辑思维：推理和演绎，数学为代表\n",
    "    - 实证思维：实验和验证，物理为代表\n",
    "    - 计算思维：设计和构造，计算机为代表\n",
    "- 计算思维：抽象和自动化\n",
    "    - 抽象问题的计算过程，利用计算机自动化求解\n",
    "- 例子：\n",
    "- 计数求和，1-100的和：\n",
    "    - 逻辑思维：求和公式\n",
    "    - 计算思维：代码直接累加求和\n",
    "- 圆周率：\n",
    "    - 逻辑思维：求公式，画多边形逼近\n",
    "    - 计算思维：蒙特卡洛方法\n",
    "- 天气预报：\n",
    "    - 实证思维：从历史数据推理未来\n",
    "    - 计算思维：建立模型训练预报\n",
    "- 量化分析：\n",
    "    - 实证+逻辑：自己猜\n",
    "    - 计算思维：使用机器学习来自动购买\n",
    "- 计算思维:关注过程，关注设计和构造，而非因果\n",
    "- 编程是将计算思维变成现实的手段\n",
    "- 计算生态：竞争发展、相互依存、迅速更迭\n",
    "- python的生态\n",
    "    - 大量第三方库：野蛮生长和自然选择\n",
    "    - 库之间的相互依存普遍\n",
    "- 从应用需求到软件产品\n",
    "    1. 产品定义：对应用需求充分理解和明确定义\n",
    "    2. 系统架构：以系统方式思考产品技术的实现\n",
    "    3. 设计与实现：结合架构完成关键设计及系统实现\n",
    "    4. 用户体验：从用户角度思考应用的效果"
   ]
  },
  {
   "cell_type": "markdown",
   "metadata": {},
   "source": [
    "### 8.3 python第三方库安装\n",
    "- 三种方法安装第三方库\n",
    "    1. 使用pip命令\n",
    "    2. 集成安装方法\n",
    "    3. 文件安装方法\n",
    "- 使用python自带的pip工具安装\n",
    "    - `pip install <第三方库>`：安装第三方库\n",
    "    - `pip install -U<第三方库>`：更新第三方库\n",
    "    - `pip unstall <第三方库>`:卸载指定第三方库\n",
    "    - `pip downlooad<第三方库>`:下载不安装第三方库\n",
    "    - `pip show<第三方库>`：列出指定第三方库的详细信息\n",
    "    - `pip search<关键字>`：根据关键字在名称和介绍中搜索第三方库\n",
    "    - `pip list`:列出已经安装好的库\n",
    "- 集成安装：anaconda，下载一个第三方库就有了800多个包\n",
    "- 文件安装:编译安装，可以使用网站进行安装\n",
    "\n",
    "### 8.4 模块7：os库的使用\n",
    "- os库提供了通用的、基本的操作系统交互功能\n",
    "- 常用路径操作、进程管理、环境参数等几类\n",
    "    - 路径操作：os.path子库，处理文件路径及信息\n",
    "    - 进程管理：启动系统中其他程序\n",
    "    - 环境参数：获得系统中软件信息等环境参数\n",
    "- os库的路径操作\n",
    "    - `os.path.abspath(path)`：返回path在当前系统中的绝对路径\n",
    "    - `os.path.normpath(path)`:归一化path的表示形式，统一用\\\\分隔路径\n",
    "    - `os.path.relpath(path)`：返回当前程序与文件之间的相对路径（relative path）\n",
    "    - `os.path.dirname(path)`:返回path中目录名称\n",
    "    - `os.path.basename`:返回path中最后文件名称\n",
    "    - `os.path.join(path,*paths)`：组合path与paths，返回一个路径字符串\n",
    "    - `os.path.exists(path)`：判断path对应文件路径或者目录是否存在，返回True或False\n",
    "    - `os.path.isfile(path)`：判断path对应文件是否为已存在文件，返回True或者False\n",
    "    - `os.path.isdir(path)`：判断path所对应是否为已存在的目录，返回True或者False\n",
    "    - `os.path.getatime(path)`:返回path对应文件或目录的上一次访问时间\n",
    "    - `os.path.getmtime(path)`:返回path对应文件目录最近一次修改时间\n",
    "    - `os.path.getctime(path)`:返回path对应文件或目录的创建时间\n",
    "    - `os.path.size(file)`：判断path所存在文件大小\n",
    "- 进程管理：使用python调用其他程序\n",
    "    - `os.system(程序路径)`\n",
    "- 换境参数：获取或改变系统环境信息\n",
    "    - `os.chdir(path)`:修改当前程序的操作路径\n",
    "    - `os.getcwd()`:获得当前路径\n",
    "    - `os.getloginin()`:获得当前登录用户名\n",
    "    - `os.cpu_count()`获得当前cpu数量\n",
    "    - `os.urandom(n)`:获得n个字节长度的随机字符串，通常用于加解密运算"
   ]
  },
  {
   "cell_type": "code",
   "execution_count": 7,
   "metadata": {},
   "outputs": [
    {
     "output_type": "stream",
     "name": "stdout",
     "text": "f:\\Users\\Administrator\\Documents\\笔记\\记录笔记\\北理python\\jupyter note\\基础\nAdministrator\n12\nb'V\\x81\\x9dq'\n"
    }
   ],
   "source": [
    "import os\n",
    "print(os.getcwd())\n",
    "print(os.getlogin())\n",
    "print(os.cpu_count())\n",
    "print(os.urandom(4))"
   ]
  },
  {
   "cell_type": "markdown",
   "metadata": {},
   "source": [
    "### 8.5 实例14：第三方库自动安装脚本\n",
    "- 需求：自动安装批量第三方库\n",
    "    - 自动用pip安装"
   ]
  },
  {
   "cell_type": "code",
   "execution_count": 11,
   "metadata": {},
   "outputs": [
    {
     "output_type": "stream",
     "name": "stdout",
     "text": "successful\n"
    }
   ],
   "source": [
    "#BatchInstall\n",
    "import os\n",
    "libs={\"numpy\",\"matplotlib\",\"pillow\",\"sklearn\",\"requests\",\\\n",
    "        \"jieba\",\"beautifulsoup4\",\"wheel\",\"networkx\",\"sympy\",\\\n",
    "        \"pyinstaller\",\"django\",\"flask\",\"werobot\",\"pyqt5\",\\\n",
    "        \"pandas\",\"pyopengl\",\"pypdf2\",\"docopt\",\"pygame\"}\n",
    "try:\n",
    "    for lib in libs:\n",
    "        os.system('pip install'+lib)\n",
    "    print('successful')\n",
    "except:\n",
    "    print('failed somehow')"
   ]
  },
  {
   "cell_type": "markdown",
   "metadata": {},
   "source": [
    "### 英文字符的鲁棒输入\n",
    "描述  \n",
    "获得用户的任何可能输入，将其中的英文字符进行打印输出，程序不出现错误。"
   ]
  },
  {
   "cell_type": "code",
   "execution_count": 29,
   "metadata": {},
   "outputs": [
    {
     "output_type": "stream",
     "name": "stdout",
     "text": "abce"
    }
   ],
   "source": [
    "#英文字符的鲁棒输入\n",
    "s=input()\n",
    "for i in s:\n",
    "    if i in ['a','b','c','d','e','f','g','h','i','j','k','l','m','n','o','p','q','r','s','t','u','v','w','x','y','z']:\n",
    "        print(i,end='')"
   ]
  },
  {
   "cell_type": "code",
   "execution_count": null,
   "metadata": {},
   "outputs": [],
   "source": [
    "#参考答案\n",
    "alpha = []\n",
    "for i in range(26):\n",
    "    alpha.append(chr(ord('a') + i))\n",
    "    alpha.append(chr(ord('A') + i))\n",
    "s = input()\n",
    "for c in s:\n",
    "    if c in alpha:\n",
    "        print(c, end=\"\")"
   ]
  },
  {
   "cell_type": "markdown",
   "metadata": {},
   "source": [
    "### 数字的鲁棒输入\n",
    "\n",
    "描述  \n",
    "获得用户输入的一个数字，可能是浮点数或复数，如果是整数仅接收十进制形式，且只能是数字。对输入数字进行平方运算，输出结果。‪‬‪‬‪‬‪‬‪‬‮‬‪‬‮‬‪‬‪‬‪‬‪‬‪‬‮‬‫‬‪‬‪‬‪‬‪‬‪‬‪‬‮‬‪‬‪‬‪‬‪‬‪‬‪‬‪‬‮‬‫‬‭‬‪‬‪‬‪‬‪‬‪‬‮‬‫‬‫‬‪‬‪‬‪‬‪‬‪‬‮‬‭‬‪‬\n",
    "\n",
    "要求：‪‬‪‬‪‬‪‬‪‬‮‬‪‬‮‬‪‬‪‬‪‬‪‬‪‬‮‬‫‬‪‬‪‬‪‬‪‬‪‬‪‬‮‬‪‬‪‬‪‬‪‬‪‬‪‬‪‬‮‬‫‬‭‬‪‬‪‬‪‬‪‬‪‬‮‬‫‬‫‬‪‬‪‬‪‬‪‬‪‬‮‬‭‬‪‬\n",
    "\n",
    "（1）无论用户输入何种内容，程序无错误；‪‬‪‬‪‬‪‬‪‬‮‬‪‬‮‬‪‬‪‬‪‬‪‬‪‬‮‬‫‬‪‬‪‬‪‬‪‬‪‬‪‬‮‬‪‬‪‬‪‬‪‬‪‬‪‬‪‬‮‬‫‬‭‬‪‬‪‬‪‬‪‬‪‬‮‬‫‬‫‬‪‬‪‬‪‬‪‬‪‬‮‬‭‬‪‬\n",
    "\n",
    "（2）如果输入有误，请输出\"输入有误\"。\n"
   ]
  },
  {
   "cell_type": "code",
   "execution_count": 28,
   "metadata": {},
   "outputs": [
    {
     "output_type": "stream",
     "name": "stdout",
     "text": "输入有误\n"
    }
   ],
   "source": [
    "#数字的鲁棒输入\n",
    "s = input()\n",
    "try:\n",
    "    if complex(s)==complex(eval(s)):\n",
    "        print(pow(eval(s),2))\n",
    "except:\n",
    "    print('输入有误')"
   ]
  },
  {
   "cell_type": "code",
   "execution_count": null,
   "metadata": {},
   "outputs": [],
   "source": []
  }
 ],
 "metadata": {
  "language_info": {
   "name": "python",
   "codemirror_mode": {
    "name": "ipython",
    "version": 3
   },
   "version": "3.8.1-final"
  },
  "orig_nbformat": 2,
  "file_extension": ".py",
  "mimetype": "text/x-python",
  "name": "python",
  "npconvert_exporter": "python",
  "pygments_lexer": "ipython3",
  "version": 3,
  "kernelspec": {
   "name": "python38164bitfcfddd69c2904c95ac25b61ee34558ff",
   "display_name": "Python 3.8.1 64-bit"
  }
 },
 "nbformat": 4,
 "nbformat_minor": 2
}