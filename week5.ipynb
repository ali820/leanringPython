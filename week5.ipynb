{
 "nbformat": 4,
 "nbformat_minor": 2,
 "metadata": {
  "language_info": {
   "name": "python",
   "codemirror_mode": {
    "name": "ipython",
    "version": 3
   },
   "version": "3.8.1-final"
  },
  "orig_nbformat": 2,
  "file_extension": ".py",
  "mimetype": "text/x-python",
  "name": "python",
  "npconvert_exporter": "python",
  "pygments_lexer": "ipython3",
  "version": 3,
  "kernelspec": {
   "name": "python38164bitfcfddd69c2904c95ac25b61ee34558ff",
   "display_name": "Python 3.8.1 64-bit"
  }
 },
 "cells": [
  {
   "cell_type": "markdown",
   "metadata": {},
   "source": [
    "## 第五周 函数和代码\n",
    "### 5.1 函数的定义与使用\n",
    "### 5.2 实例7：七段数码管绘制\n",
    "### 5.3 代码复用与函数递归\n",
    "### 5.4 模块4：PyInstaller库的使用\n",
    "### 5.5 科赫雪花小包裹\n",
    "\n"
   ]
  },
  {
   "cell_type": "markdown",
   "metadata": {},
   "source": [
    "### 5.1 函数的定义与使用\n",
    "- 函数的理解与定义\n",
    "    - 函数是一段代码的表示，是具有一定功能的、可重复使用的语句组，是一种功能的抽象\n",
    "    - 两个作用：\n",
    "        - 降低编程难度\n",
    "        - 代码复用\n",
    "    - ```\n",
    "        def<函数名>(<参数（0个或者多个）>):\n",
    "            <函数体>\n",
    "            return <返回值>\n",
    "        ```\n",
    "    - 函数定义时，所指定的参数是一种占位符\n",
    "    - 函数定义后，如果不经过调用，不会被执行\n",
    "    - 函数定义时，参数是输入、函数体是处理、结果是输出（IPO）\n",
    "    \n"
   ]
  },
  {
   "cell_type": "code",
   "execution_count": 3,
   "metadata": {},
   "outputs": [
    {
     "name": "stdout",
     "output_type": "stream",
     "text": "3628800\n"
    }
   ],
   "source": [
    "#计算n！\n",
    "def fact(n):\n",
    "    s=1\n",
    "    for i in range(1,n+1):\n",
    "        s*=i\n",
    "    return s\n",
    "\n",
    "n = input()\n",
    "b=fact(int(n))\n",
    "print(b)"
   ]
  },
  {
   "cell_type": "markdown",
   "metadata": {},
   "source": [
    "- 函数的使用及调用过程\n",
    "    - 函数只有被调用，才会被执行\n",
    "\n",
    "- 函数的参数传递\n",
    "    - 无论函数有没有参数，都要保留括号\n",
    "    - 可选参数：函数定义时可以为某些参数指定默认值，构成可选参数\n",
    "        -  ```\n",
    "        def<函数名>(<非可选参数（必选参数）>，<可选参数>):\n",
    "            <函数体>\n",
    "            return <返回值>\n",
    "        ```\n",
    "        - 可选参数一定要在必选参数后面\n",
    "    - 可变参数的传递：函数定义时可以设计可变数量参数，既不确定参数总数量\n",
    "        -  ```\n",
    "        def<函数名>(<参数>，*b):\n",
    "            <函数体>\n",
    "            return <返回值>\n",
    "        ```\n",
    "    - 函数调用时，参数可以按照位置或名称方式传递\n"
   ]
  },
  {
   "cell_type": "code",
   "execution_count": 23,
   "metadata": {},
   "outputs": [
    {
     "name": "stdout",
     "output_type": "stream",
     "text": "725760 725760\n"
    }
   ],
   "source": [
    "#可选参数：计算n！//m\n",
    "def fact(n,m=1):  #m是可选参数\n",
    "    s=1\n",
    "    for i in range(1,n+1):\n",
    "        s*=i\n",
    "    return s//m\n",
    "b=fact(10,5)    #位置传递\n",
    "c=fact(m=5,n=10) #名称传递\n",
    "print(b,c)\n"
   ]
  },
  {
   "cell_type": "code",
   "execution_count": 21,
   "metadata": {},
   "outputs": [
    {
     "name": "stdout",
     "output_type": "stream",
     "text": "6\n144\n5400\n"
    }
   ],
   "source": [
    "#可变参数：计算n！//m\n",
    "def fact(n,*b):  #*b为可变参数\n",
    "    s=1\n",
    "    for i in range(1,n+1):\n",
    "        s*=i\n",
    "    for item in b:\n",
    "        s*=item\n",
    "    return s\n",
    "print(fact(3))\n",
    "print(fact(3,4,6))\n",
    "print(fact(3,10,9,10))"
   ]
  },
  {
   "cell_type": "markdown",
   "metadata": {},
   "source": [
    "- 函数的返回值\n",
    "    - 函数可以返回0或者多个结果，也可以不返回\n"
   ]
  },
  {
   "cell_type": "code",
   "execution_count": 26,
   "metadata": {},
   "outputs": [
    {
     "name": "stdout",
     "output_type": "stream",
     "text": "(3628800, 5, 725760) (3628800, 5, 725760)\n3628800 5 725760\n"
    }
   ],
   "source": [
    "#可选参数：计算n！//m\n",
    "def fact(n,m=1):  #m是可选参数\n",
    "    s=1\n",
    "    for i in range(1,n+1):\n",
    "        s*=i\n",
    "    return s,m,s//m  #返回三个值\n",
    "\n",
    "b=fact(10,5)    #位置传递\n",
    "c=fact(m=5,n=10) #名称传递\n",
    "\n",
    "x,y,z = fact(10,5) #返回的三个值分别赋给xyz\n",
    "\n",
    "print(b,c)\n",
    "print(x,y,z)"
   ]
  },
  {
   "cell_type": "markdown",
   "metadata": {},
   "source": [
    "- 局部变量和全局变量\n",
    "    - 局部变量是函数内部使用的变量\n",
    "\n",
    "\n"
   ]
  },
  {
   "cell_type": "markdown",
   "metadata": {},
   "source": [
    "1. 局部变量和全局变量是不同变量\n",
    "- 局部变量是函数内部的占位符，可以与全局变量重名但是不相同\n",
    "- 函数运算结束后，局部变量被释放\n",
    "- 可以使用`global`保留字在函数内部使用全局变量"
   ]
  },
  {
   "cell_type": "code",
   "execution_count": 27,
   "metadata": {},
   "outputs": [
    {
     "name": "stdout",
     "output_type": "stream",
     "text": "3628800 100\n"
    }
   ],
   "source": [
    "n,s=10,100 #此处n，s是全局变量\n",
    "def fact(n):        #fact函数中的n，s是局部变量\n",
    "    s=1\n",
    "    for i in range(1,n+1):\n",
    "        s*=i\n",
    "    return s\n",
    "print(fact(n),s)  #n,s是全局变量"
   ]
  },
  {
   "cell_type": "code",
   "execution_count": 34,
   "metadata": {},
   "outputs": [
    {
     "name": "stdout",
     "output_type": "stream",
     "text": "362880000 362880000\n"
    }
   ],
   "source": [
    "n,s=10,100 #此处n，s是全局变量\n",
    "def fact(n):        #fact函数中的n，s是局部变量\n",
    "    global s   #声明是全局变量\n",
    "    for i in range(1,n+1):\n",
    "        s*=i\n",
    "    return s\n",
    "print(fact(n),s)  #n,s是全局变量"
   ]
  },
  {
   "cell_type": "markdown",
   "metadata": {},
   "source": [
    "2. 局部变量为组合数据类型且未创建，等同于全局变量"
   ]
  },
  {
   "cell_type": "code",
   "execution_count": 38,
   "metadata": {},
   "outputs": [
    {
     "name": "stdout",
     "output_type": "stream",
     "text": "['F', 'f', 'C']\n"
    }
   ],
   "source": [
    "ls=['F','f'] #创建全局变量s\n",
    "def func(a):\n",
    "    ls.append(a) #此处ls是列表类型，未真实创建则等同于全局变量\n",
    "    return\n",
    "func('C') #全局变量ls被修改\n",
    "print(ls)"
   ]
  },
  {
   "cell_type": "code",
   "execution_count": 39,
   "metadata": {},
   "outputs": [
    {
     "name": "stdout",
     "output_type": "stream",
     "text": "['F', 'f']\n"
    }
   ],
   "source": [
    "ls=['F','f'] #创建全局变量s\n",
    "def func(a):\n",
    "    ls = []     #此处ls是列表类型，真实创建ls是局部变量，函数运行完成就被释放\n",
    "    ls.append(a) \n",
    "    return\n",
    "func('C') #局部变量ls被修改\n",
    "print(ls)"
   ]
  },
  {
   "cell_type": "markdown",
   "metadata": {},
   "source": [
    "- lambda函数\n",
    "    - lambda函数返回函数名作为结果\n",
    "         1. lambda函数是一种匿名函数，即没有名字的函数\n",
    "         2. 使用lambda保留字定义，函数名是返回结果\n",
    "         3. lambda函数用于定义简单的、能够在一行内表示的函数\n",
    "         ```\n",
    "         <函数名>=lambda<参数>:<表达式>\n",
    "         ```\n",
    "    - 谨慎使用lambda函数\n",
    "        - lambda函数主要用作一些特定函数或方法的参数\n",
    "        - lambda函数有固定的使用方式"
   ]
  },
  {
   "cell_type": "code",
   "execution_count": 41,
   "metadata": {},
   "outputs": [
    {
     "name": "stdout",
     "output_type": "stream",
     "text": "25\n"
    }
   ],
   "source": [
    "#\n",
    "f = lambda x,y:x+y\n",
    "print(f(10,15))"
   ]
  },
  {
   "cell_type": "markdown",
   "metadata": {},
   "source": [
    "### 5.2 实例7：七段数码管绘制\n",
    "- 交通灯的显示等\n",
    "    1. 绘制三个数字的数码管\n",
    "        - 七段数码管由7个基本线条组成\n",
    "        - 七段数码管可以有固定顺序\n",
    "        - 不同数字显示不同的线条\n",
    "    2. 获得一串数字，绘制对应数码管\n",
    "    3. 获得当前时间，绘制对应数码管\n"
   ]
  },
  {
   "cell_type": "code",
   "execution_count": 2,
   "metadata": {},
   "outputs": [],
   "source": [
    "#SevenDigitsDrawV1.py\n",
    "import turtle as t\n",
    "\n",
    "def drawLine(draw):                                                             #绘制单段数码管\n",
    "    t.pendown() if draw else t.penup()\n",
    "    t.fd(40)\n",
    "    t.right(90)\n",
    "\n",
    "def drawDigit(digit):                                                        #根据数字绘制七段数码管\n",
    "    drawLine(True) if digit in [2,3,4,5,6,8,9] else drawLine(False)\n",
    "    drawLine(True) if digit in [0,1,3,4,5,6,7,8,9] else drawLine(False)\n",
    "    drawLine(True) if digit in [0,2,3,5,6,8,9] else drawLine(False)\n",
    "    drawLine(True) if digit in [0,2,6,8] else drawLine(False)\n",
    "    t.left(90)\n",
    "    drawLine(True) if digit in [0,4,5,6,8,9] else drawLine(False)\n",
    "    drawLine(True) if digit in [0,2,3,5,6,7,8,9] else drawLine(False)\n",
    "    drawLine(True) if digit in [0,1,2,3,4,7,8,9] else drawLine(False)\n",
    "    t.left(180)                                                             #为后续数字确定位置\n",
    "    t.penup()                                                               #为后续数字确定位置\n",
    "    t.fd(20)                                                                #为后续数字确定位置\n",
    "\n",
    "def drawDate(date): \n",
    "    for i in date:\n",
    "        drawDigit(eval(i))                                                   #通过eval（）函数将数字变为整数\n",
    "\n",
    "def main():\n",
    "    t.setup(800,350,200,200)\n",
    "    t.penup()\n",
    "    t.fd(-300)\n",
    "    t.pensize(5)\n",
    "    drawDate('20200317')\n",
    "    t.hideturtle()\n",
    "    t.done\n",
    "main()"
   ]
  },
  {
   "cell_type": "code",
   "execution_count": null,
   "metadata": {},
   "outputs": [],
   "source": [
    "#SevenDigitsDrawV2.py\n",
    "import turtle as t\n",
    "import time as ti\n",
    "\n",
    "def drawGap():                                                                  #绘制数码管间隔\n",
    "    t.penup()\n",
    "    t.fd(5)\n",
    "\n",
    "def drawLine(draw):\n",
    "    drawGap()                                                             #绘制单段数码管\n",
    "    t.pendown() if draw else t.penup()\n",
    "    t.fd(40)\n",
    "    drawGap()\n",
    "    t.right(90)\n",
    "\n",
    "def drawDigit(digit):                                                        #根据数字绘制七段数码管\n",
    "    drawLine(True) if digit in [2,3,4,5,6,8,9] else drawLine(False)\n",
    "    drawLine(True) if digit in [0,1,3,4,5,6,7,8,9] else drawLine(False)\n",
    "    drawLine(True) if digit in [0,2,3,5,6,8,9] else drawLine(False)\n",
    "    drawLine(True) if digit in [0,2,6,8] else drawLine(False)\n",
    "    t.left(90)\n",
    "    drawLine(True) if digit in [0,4,5,6,8,9] else drawLine(False)\n",
    "    drawLine(True) if digit in [0,2,3,5,6,7,8,9] else drawLine(False)\n",
    "    drawLine(True) if digit in [0,1,2,3,4,7,8,9] else drawLine(False)\n",
    "    t.left(180)                                                             #为后续数字确定位置\n",
    "    t.penup()                                                               #为后续数字确定位置\n",
    "    t.fd(20)                                                                #为后续数字确定位置\n",
    "\n",
    "\n",
    "#遇到-是年，遇到=是月，遇到+是日\n",
    "def drawDate(date): \n",
    "    t.pencolor('red')                                                        #date为日期，格式为‰Y-‰m=%d+\n",
    "    for i in date:\n",
    "        if i == '-':\n",
    "            t.write('年',font = ('Arial',18,'normal'))                                                   \n",
    "            t.pencolor('green')\n",
    "            t.fd(40)\n",
    "        elif i == '=':\n",
    "            t.write('月',font = ('Arial',18,'normal'))\n",
    "            t.pencolor('blue')\n",
    "        elif i == '+':\n",
    "            t.write('日',font = ('Arial',18,'normal'))\n",
    "        else:\n",
    "            drawDigit(eval(i))\n",
    "\n",
    "def main():\n",
    "    t.setup(800,350,200,200)\n",
    "    t.penup()\n",
    "    t.fd(-300)\n",
    "    t.pensize(5)\n",
    "    drawDate(ti.strftime('%Y-%m=%d+',ti.gmtime()))\n",
    "    t.hideturtle()\n",
    "    t.done\n",
    "main()"
   ]
  },
  {
   "cell_type": "markdown",
   "metadata": {},
   "source": [
    "### 5.3 代码复用与函数递归\n",
    "- 把代码当作资源进行抽象：\n",
    "    - 代码资源化：程序代码是一种用来表达计算的“资源”\n",
    "    - 代码抽象化：使用函数等方法对代码赋予更高级别的定义\n",
    "    - 代码复用：同一份代码在需要时可以被重复使用\n",
    "- 函数和对象是代码复用的两种主要形式\n",
    "    - 函数：将代码命名，在代码层面建立了初步抽象\n",
    "    - 对象：通过属性和方法`<a>.<b>`和`<a>.<b>()`，在函数之上再次组织进行抽象\n",
    "- 模块化设计：分而治之\n",
    "    - 通过函数或对象封装将程序划分为模块及模块间的表达\n",
    "    - 具体包括：主程序、子程序和子程序间的关系\n",
    "    - 是一中分而治之、分层抽象、体系化设计的思想\n",
    "\n",
    "- 紧耦合：两个部分之间交流很多，无法独立存在\n",
    "- 松耦合：两个部分之间交流很少，可以独立存在，由清晰独立的接口\n",
    "- 在模块内部尽可能紧耦合、模块之间尽可能松耦合\n",
    "\n",
    "- 函数递归：函数中调用函数自身的方式，类似数学归纳法\n",
    "    - 链条：计算过程存在递归链条\n",
    "    - 基例：存在一个人或者多个不需要再次递归的基例\n",
    "    - 递归本身是一个函数，需要通过函数定义方式描述\n",
    "    - 函数内部，采用分支语句对输入参数进行判断\n",
    "    - 基例和链条，分别编写对应代码"
   ]
  },
  {
   "cell_type": "code",
   "execution_count": 1,
   "metadata": {},
   "outputs": [
    {
     "name": "stdout",
     "output_type": "stream",
     "text": "3628800\n"
    }
   ],
   "source": [
    "#n！计算\n",
    "def fact(n):\n",
    "    if n==0:\n",
    "        return 1\n",
    "    else:\n",
    "        return n*fact(n-1)\n",
    "n=10\n",
    "print(fact(n))\n"
   ]
  },
  {
   "cell_type": "code",
   "execution_count": 5,
   "metadata": {},
   "outputs": [
    {
     "data": {
      "text/plain": "'fds'"
     },
     "execution_count": 5,
     "metadata": {},
     "output_type": "execute_result"
    }
   ],
   "source": [
    "#字符串反转-递归\n",
    "\n",
    "# s=input()\n",
    "# s[::-1]\n",
    "\n",
    "def rvs(s):\n",
    "    if s == '':\n",
    "        return s\n",
    "    else:\n",
    "        return rvs(s[1:])+s[0]\n",
    "\n",
    "s = 'sdf'\n",
    "rvs(s)\n"
   ]
  },
  {
   "cell_type": "code",
   "execution_count": 72,
   "metadata": {},
   "outputs": [
    {
     "data": {
      "text/plain": "55"
     },
     "execution_count": 72,
     "metadata": {},
     "output_type": "execute_result"
    }
   ],
   "source": [
    "#斐波那契数列\n",
    "def f(n):\n",
    "    if n ==1 or n == 2:\n",
    "        return 1\n",
    "    else:\n",
    "        return f(n-1)+f(n-2)\n",
    "\n",
    "n=10\n",
    "f(n)"
   ]
  },
  {
   "cell_type": "code",
   "execution_count": 7,
   "metadata": {},
   "outputs": [
    {
     "output_type": "stream",
     "name": "stdout",
     "text": "1:a->c\n2:a->b\n1:c->b\n3:a->c\n1:b->a\n2:b->c\n1:a->c\n7 0.00025690000256872736\n"
    }
   ],
   "source": [
    "#汉诺塔\n",
    "from time import perf_counter \n",
    "st = perf_counter()\n",
    "count = 0\n",
    "def hanoi(n,src,dst,mid):\n",
    "#n是圆盘数，src是源柱子，dst是目标柱子，mid是中间柱子\n",
    "    global count \n",
    "    if n == 1:\n",
    "        print('{}:{}->{}'.format(1,src,dst))\n",
    "        count +=1\n",
    "    else:\n",
    "        hanoi(n-1,src,mid,dst)\n",
    "        print('{}:{}->{}'.format(n,src,dst))\n",
    "        count+=1\n",
    "        hanoi(n-1,mid,dst,src)\n",
    "\n",
    "n = 3\n",
    "hanoi(n,'a','c','b')\n",
    "print(count,perf_counter()-st)\n",
    "\n"
   ]
  },
  {
   "cell_type": "markdown",
   "metadata": {},
   "source": [
    "### 5.4 模块4：PyInstaller库的使用\n",
    "- PyInstaller可以将.py源代码文件封装成为可执行文件\n",
    "    - pyinstaller -h:查看帮助\n",
    "    - pyinstaller --clean：清理打包过程的临时文件\n",
    "    - -D,--online:默认值，生成dist文件夹\n",
    "    - -F，--onefile：在dist文件夹中只生成独立打包文件\n",
    "    - -i<图标文件名>指定打包程序使用的图标（icon）文件\n"
   ]
  },
  {
   "cell_type": "markdown",
   "metadata": {},
   "source": [
    "### 5.5 科赫雪花小包裹\n",
    "- 科赫曲线：一种迭代的自相似曲线"
   ]
  },
  {
   "cell_type": "code",
   "execution_count": 1,
   "metadata": {},
   "outputs": [],
   "source": [
    "#KochDrawV1\n",
    "import turtle as t\n",
    "def koch(size,n):\n",
    "    if n == 0:\n",
    "        t.fd(size)\n",
    "    else:\n",
    "        for angle in [0,60,-120,60]:\n",
    "            t.left(angle)\n",
    "            koch(size/3,n-1)\n",
    "\n",
    "def main():\n",
    "    t.setup(800,400)\n",
    "    t.penup()\n",
    "    t.goto(-300,-50)\n",
    "    t.pendown()\n",
    "    t.pensize(2)\n",
    "    koch(600,3)\n",
    "    t.hideturtle()\n",
    "    t.done\n",
    "main()"
   ]
  },
  {
   "cell_type": "code",
   "execution_count": 3,
   "metadata": {},
   "outputs": [],
   "source": [
    "#KochDrawV2\n",
    "import turtle as t\n",
    "def koch(size,n):\n",
    "    if n == 0:\n",
    "        t.fd(size)\n",
    "    else:\n",
    "        for angle in [0,60,-120,60]:\n",
    "            t.left(angle)\n",
    "            koch(size/3,n-1)\n",
    "\n",
    "def main():\n",
    "    t.setup(600,600)\n",
    "    t.penup()\n",
    "    t.goto(-200,100)\n",
    "    t.pendown()\n",
    "    t.pensize(2)\n",
    "    level=int(input())\n",
    "    koch(400,level)\n",
    "    t.right(120)\n",
    "    koch(400,level)\n",
    "    t.right(120)\n",
    "    koch(400,level)\n",
    "    t.hideturtle()\n",
    "    t.done\n",
    "main()"
   ]
  },
  {
   "cell_type": "markdown",
   "metadata": {},
   "source": [
    "\n",
    "### 随机密码生成\n",
    "描述\n",
    "补充编程模板中代码，完成如下功能：‪‬‪‬‪‬‪‬‪‬‮‬‪‬‮‬‪‬‪‬‪‬‪‬‪‬‮‬‫‬‪‬‪‬‪‬‪‬‪‬‪‬‮‬‪‬‪‬‪‬‪‬‪‬‪‬‪‬‮‬‫‬‭‬‪‬‪‬‪‬‪‬‪‬‮‬‫‬‫‬‪‬‪‬‪‬‪‬‪‬\n",
    "以整数17为随机数种子，获取用户输入整数N为长度，产生3个长度为N位的密码，密码的每位是一个数字。每个密码单独一行输出。‪‬‪‬‪‬‪‬‪‬‮‬‪‬‮‬‪‬‪‬‪‬‪‬‪‬‮‬‫‬‪‬‪‬‪‬‪‬‪‬‪‬‮‬‪‬‪‬‪‬‪‬‪‬‪‬‪‬‮‬‫‬‭‬‪‬‪‬‪‬‪‬‪‬‮‬‫‬‫‬‪‬‪‬‪‬‪‬‪‬‮‬‭‬‪‬\n",
    "\n",
    "产生密码采用random.randint()函数。"
   ]
  },
  {
   "cell_type": "code",
   "execution_count": 8,
   "metadata": {},
   "outputs": [
    {
     "name": "stdout",
     "output_type": "stream",
     "text": "634\n524\n926\n"
    }
   ],
   "source": [
    "import random\n",
    "\n",
    "def genpwd(length):\n",
    "    return random.randint(pow(10,length-1),pow(10,length))\n",
    "\n",
    "\n",
    "length = eval(input())\n",
    "random.seed(17)\n",
    "for i in range(3):\n",
    "    print(genpwd(length))\n"
   ]
  },
  {
   "cell_type": "markdown",
   "metadata": {},
   "source": [
    "### 连续质数计算\n",
    "描述\n",
    "补充编程模板中代码，完成如下功能：‪‬‪‬‪‬‪‬‪‬‮‬‪‬‮‬‪‬‪‬‪‬‪‬‪‬‮‬‫‬‪‬‪‬‪‬‪‬‪‬‪‬‮‬‪‬‪‬‪‬‪‬‪‬‪‬‪‬‮‬‫‬‭‬‪‬‪‬‪‬‪‬‪‬‮‬‫‬‫‬‪‬‪‬‪‬‪‬‪‬‮‬‭‬‪‬\n",
    "\n",
    "获得用户输入数字N，计算并输出从N开始的5个质数，单行输出，质数间用逗号,分割。‪‬‪‬‪‬‪‬‪‬‮‬‪‬‮‬‪‬‪‬‪‬‪‬‪‬‮‬‫‬‪‬‪‬‪‬‪‬‪‬‪‬‮‬‪‬‪‬‪‬‪‬‪‬‪‬‪‬‮‬‫‬‭‬‪‬‪‬‪‬‪‬‪‬‮‬‫‬‫‬‪‬‪‬‪‬‪‬‪‬‮‬‭‬‪‬\n",
    "\n",
    "注意：需要考虑用户输入的数字N可能是浮点数，应对输入取整数；最后一个输出后不用逗号。"
   ]
  },
  {
   "cell_type": "code",
   "execution_count": 22,
   "metadata": {},
   "outputs": [
    {
     "name": "stdout",
     "output_type": "stream",
     "text": "13,17,19,23,29"
    }
   ],
   "source": [
    "def prime(m):\n",
    "    count = 1\n",
    "    while(count<=5):\n",
    "        isprime = 1\n",
    "        for i in range(2,m):\n",
    "            if m%i == 0:\n",
    "                isprime = 0\n",
    "        if isprime == 1:\n",
    "            if count == 5:\n",
    "                print(m,end='')\n",
    "            else:\n",
    "                print(m,end=',')\n",
    "            count+=1\n",
    "        m+=1\n",
    "\n",
    "n = eval(input())\n",
    "prime(int(n))"
   ]
  },
  {
   "cell_type": "code",
   "execution_count": 23,
   "metadata": {},
   "outputs": [
    {
     "name": "stdout",
     "output_type": "stream",
     "text": "13,17,19,23,29"
    }
   ],
   "source": [
    "#参考代码\n",
    "def prime(m):\n",
    "    for i in range(2,m):\n",
    "        if m % i == 0:\n",
    "            return False\n",
    "    return True\n",
    "\n",
    "n = eval(input())\n",
    "n_ = int(n)\n",
    "n_ = n_+1 if n_ < n else n_\n",
    "count = 5\n",
    "\n",
    "while count > 0:\n",
    "    if prime(n_):\n",
    "        if count > 1:\n",
    "            print(n_, end=\",\")\n",
    "        else:\n",
    "            print(n_, end=\"\")\n",
    "        count -= 1 \n",
    "    n_ += 1"
   ]
  },
  {
   "cell_type": "code",
   "execution_count": null,
   "metadata": {},
   "outputs": [],
   "source": []
  }
 ]
}