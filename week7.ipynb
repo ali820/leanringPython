{
 "cells": [
  {
   "cell_type": "markdown",
   "metadata": {},
   "source": [
    "## week7 文件和数据格式化\n",
    "### 7.1 文件的使用\n",
    "### 7.2 实例11：自动轨迹绘制\n",
    "### 7.3 一维数据的格式化和处理\n",
    "### 7.4 二维数据的格式化和处理\n",
    "### 7.5 模块6：wordcloud库的使用\n",
    "### 7.6 实例12：政府工作报告词云"
   ]
  },
  {
   "cell_type": "markdown",
   "metadata": {},
   "source": [
    "### 7.1 文件的使用\n",
    "- 文件及其类型\n",
    "    - 文件是数据的抽象和集合\n",
    "        - 文件是存储在辅助存储器上的数据序列\n",
    "        - 文件是数据存储的一种形式\n",
    "        - 文件展现形态：文本文件和二进制文件\n",
    "            - 文本文件和二进制文件只是文件的展示方式\n",
    "            - 本质上，所有文件都是二进制形式存储\n",
    "            - 形式上，所有文件采用两种方式展示\n"
   ]
  },
  {
   "cell_type": "code",
   "execution_count": 85,
   "metadata": {},
   "outputs": [
    {
     "output_type": "stream",
     "name": "stdout",
     "text": "\nb''\n"
    },
    {
     "output_type": "execute_result",
     "data": {
      "text/plain": "<function BufferedReader.close>"
     },
     "metadata": {},
     "execution_count": 85
    }
   ],
   "source": [
    "#文本及二进制形式打开文件\n",
    "tf=open('t.txt','rt',encoding = 'utf-8')\n",
    "print(tf.readline())\n",
    "tf.close\n",
    "\n",
    "tf=open('t.txt','rb')\n",
    "print(tf.readline())\n",
    "tf.close"
   ]
  },
  {
   "cell_type": "markdown",
   "metadata": {},
   "source": [
    "- 文件的打开及关闭\n",
    "    - 打开-操作-关闭\n",
    "    - 打开：\n",
    "    - `r`:只读模式，默认值，如果文件不存在，返回 FileNotFoundError\n",
    "    - `w`:覆盖写模式，文件不存在则创建，存在则完全覆盖\n",
    "    - `x`:创建写模式，文件不存在则创建，存在则返回 File Exists Error\n",
    "    - `a`:追加写模式，文件不存在则创建，存在则在文件最后追加内容\n",
    "    - `b`:二进制文件模式\n",
    "    - `t`:文本文件模式，默认值\n",
    "    - `+`:与r/w/x/a同使用，在原功能基础上增加同时读写功能\n",
    "- 文件内容的读取：\n",
    "    - `<f>.read(size=-1)`:读入全部内容，如果给出参数，就输入size长度\n",
    "    - `<f>.readline(size=-1)`：读入一行内容，读入该行的size长度\n",
    "    - `<f>.readlines(hint=-1)`：读入文件所有行，如给出参数，读入hint行 \n",
    "    - 遍历全文本（1）：一次读入，统一处理\n",
    "    - 遍历全文本（2）：分段读入，分段处理\n",
    "- 数据文件的写入：\n",
    "    - `<f>.write(s)`:向文件写入一个字符串或字节流\n",
    "    - `<f>.writelines(lines)`:将一个元素全为字符串的列表写入交件\n",
    "    - `<f>.seek(offset)`:改变当前文件操作指针位置的操作，0-文件开头；1-当前位置；2-文件结尾"
   ]
  },
  {
   "cell_type": "markdown",
   "metadata": {},
   "source": [
    "### 7.2 实例11：自动轨迹绘制\n",
    "- 需求:根据脚本绘制图型\n",
    "- 给出参数，绘制图像\n",
    "    - 定义数据文件格式（接口），一个个性化过程\n",
    "    - 编写程序，根据文件接口解析参数绘制图形\n",
    "    - 编制数据文件"
   ]
  },
  {
   "cell_type": "code",
   "execution_count": 1,
   "metadata": {},
   "outputs": [],
   "source": [
    "#AutoTraceDraw\n",
    "import turtle as t\n",
    "t.title('自动绘制轨迹')\n",
    "t.setup(800,600,0,0)\n",
    "t.pencolor('red')\n",
    "t.pensize(5)\n",
    "#数据类型\n",
    "datals=[]\n",
    "f=open('data.txt')\n",
    "for line in f:\n",
    "    line = line.replace('\\n','')\n",
    "    datals.append(list(map(eval,line.split(',')))) #map函数可以将第一个函数的功能作用于第二个参数\n",
    "f.close\n",
    "#自动绘制\n",
    "for i in range(len(datals)):\n",
    "    t.pencolor(datals[i][3],datals[i][4],datals[i][5])\n",
    "    t.fd(datals[i][0])\n",
    "    if datals[i][1]:\n",
    "        t.right(datals[i][2])\n",
    "    else:\n",
    "        t.left(datals[i][2])\n",
    "    "
   ]
  },
  {
   "cell_type": "markdown",
   "metadata": {},
   "source": [
    "- 方法思维：\n",
    "1. 自动化思维：数据和功能分离，数据驱动的自动运行\n",
    "2. 接口化设计：格式化接口设计，清洗明了\n",
    "3. 二维数据的应用：应用维度组织数据，二维数据最为常见\n",
    "- 应用扩展：\n",
    "1. 扩展接口设计，增加更多接口控制\n",
    "2. 扩展功能设计，增加弧形等更多功能\n",
    "3. 扩展应用需求，发展自动轨迹绘制到动画绘制"
   ]
  },
  {
   "cell_type": "markdown",
   "metadata": {},
   "source": [
    "### 7.3 一维数据的格式化和处理\n",
    "- 数据组织的维度\n",
    "    - 一个数据表达一个含义，一组数据表达一个或多个含义\n",
    "    - 一维数据：由对等关系的有序或无序数据构成，采用线性方式组织\n",
    "        - 对应列表、数组和集合等概念\n",
    "        - 二维数据：由多个一维数据构成，是一维数据的组合形式（表格是典型的二维数据）\n",
    "        - 多维数据：由一维或二维数据在新维度上扩展而成\n",
    "        - 高维数据：仅利用最基本的二元关系展示数据间的复杂结构\n",
    "    - 数据操作周期：存储-表示-操作\n",
    "- 一维数据的表示:\n",
    "    - 如果数据间有序：使用列表类型\n",
    "        - 列表类型可以表达一维有序数据\n",
    "        - for循环可以遍历数据，进而对每个数据进行处理\n",
    "    - 如果数据间无序：使用集合类型\n",
    "        - 集合类型可以表达一维无序数据\n",
    "        - for循环可以遍历数据，进而对每个数据进行处理\n",
    "- 一维数据的存储：\n",
    "    - 方式一：空格分隔，使用一个或多个空格分隔并进行存储，不换行；但要求数据中不能由空格\n",
    "    - 方式二：逗号分隔，不换行，同样要求数据中不能由逗号\n",
    "    - 方式三：其他符号分隔，缺点一样要求不能有分隔符号在文本中\n",
    "- 一维数据的处理：\n",
    "    - 如何将数据读入程序以及将程序表示的数据写入到文件中"
   ]
  },
  {
   "cell_type": "code",
   "execution_count": 96,
   "metadata": {},
   "outputs": [
    {
     "output_type": "stream",
     "name": "stdout",
     "text": "[]\n[]\n"
    }
   ],
   "source": [
    "#读入\n",
    "txt = open('t.txt',encoding='utf-8')\n",
    "tf=txt.read()\n",
    "ls = tf.split()\n",
    "print(ls)\n",
    "txt.close\n",
    "#写入\n",
    "f = open('test.txt','w',encoding='utf-8')\n",
    "f.write(' '.join(ls))\n",
    "f.close()\n",
    "print(ls)"
   ]
  },
  {
   "cell_type": "markdown",
   "metadata": {},
   "source": [
    "### 7.4 二维数据的格式化和处理\n",
    "- 一般使用二维列表表达二维数据\n",
    "- 使用两层for循环遍历每个元素\n",
    "    - 外层和内层分别遍历行和列\n",
    "- csv格式与二维数据存储\n",
    "    - CSV：comma-separated values(用逗号分隔的值)\n",
    "    - 每一个一维数据，采用逗号分隔，无空行\n",
    "    - Excel可以打开保存CSV文件\n",
    "    - 如果某个元素缺失，逗号仍需保留\n",
    "    - 二维数据表头可以作为数据储存，也可以另行存储\n",
    "    - 逗号为英文半角逗号，逗号与数据之间没有额外空行\n",
    "    - 数据包含逗号，则在数据中的逗号加引号或者转义符\n",
    "    - 一般索引习惯，ls\\[row]\\[column],先行后列\n",
    "- 二维数据的处理:\n",
    "    - 从csv格式文件读入数据\n",
    "    - 将数据写入csv\n",
    "    - 逐一遍历数据"
   ]
  },
  {
   "cell_type": "code",
   "execution_count": null,
   "metadata": {},
   "outputs": [],
   "source": [
    "#从csv文件中读入数据\n",
    "fo = open(fname)\n",
    "ls=[]\n",
    "for line in fo:\n",
    "    line = line.replace('\\n','')\n",
    "    ls.append(line.split(','))\n",
    "fo.close\n",
    "\n",
    "#将数据写入csv数据\n",
    "ls=[[],[],[]]#二维列表\n",
    "f=open(fname,'w')\n",
    "for item in ls:\n",
    "    f.write(','.join(item)+'\\n')\n",
    "f.close\n",
    "\n",
    "#二维数据的逐一处理\n",
    "ls=[[1,2],[3,4],[5,6]]\n",
    "for row in ls:\n",
    "    for column in row:\n",
    "        print(column)"
   ]
  },
  {
   "cell_type": "markdown",
   "metadata": {},
   "source": [
    "### 7.5 模块6：wordcloud库的使用\n",
    "- wordcloud库把词云当作一个WordCloud对象\n",
    "- wordcloud.WordCloud()代表一个文本对应的词云\n",
    "- 可以根据文本中词语出现的频率等参数绘制词云\n",
    "- 绘制词云的形状、尺寸和颜色都可以设定\n",
    "- wordcloud常规方法\n",
    "- w=wordcloud.WordCloud()\n",
    "    - w.generate(txt):向WordCloud对象w中加载文本txt\n",
    "    - w.to_file(filename):将词云输出为图像文件，.png或.jpg格式\n",
    "- w=wordcloud.WordCloud(<参数>)\n",
    "    - width:指定词云对象生成图片的宽度，默认400像素\n",
    "    - height:指定词云对象生成图片的高度，默认200像素\n",
    "    - min_font_size:指定词云中字体最小字号，默认4号\n",
    "    - max_font_size:指定词云中字体最大字号，根据高度自动调节\n",
    "    - font_step:指定词云中字体字号的步进间隔，默认为1\n",
    "    - font_path:指定字体文件路径，默认None\n",
    "    - max_words:指定词云显示最大单词数，默认200\n",
    "    - stop_words:指定词云的排除词列表，即不显示的单词列表\n",
    "    - mask:指定词云形状，默认为长方形，需要引用imread()函数\n",
    "    - background_color:指定词云图片的背景颜色，默认为黑色\n",
    "- 散步绘词云：\n",
    "    - 1. 配置对象参数\n",
    "    - 2. 加载词云文本\n",
    "    - 3. 输出词云文件"
   ]
  },
  {
   "cell_type": "code",
   "execution_count": 10,
   "metadata": {},
   "outputs": [
    {
     "output_type": "execute_result",
     "data": {
      "text/plain": "<wordcloud.wordcloud.WordCloud at 0x120d50c7fa0>"
     },
     "metadata": {},
     "execution_count": 10
    }
   ],
   "source": [
    "#wordcloud库常规方法\n",
    "import wordcloud\n",
    "import matplotlib as plt\n",
    "%matplotlib inline\n",
    "\n",
    "c=wordcloud.WordCloud(width=500,height=200)\n",
    "c.generate('wordcloud by python')\n",
    "c.to_file('pywordcloud.png')"
   ]
  },
  {
   "cell_type": "code",
   "execution_count": 16,
   "metadata": {},
   "outputs": [
    {
     "output_type": "execute_result",
     "data": {
      "text/plain": "<wordcloud.wordcloud.WordCloud at 0x120d3f8a5b0>"
     },
     "metadata": {},
     "execution_count": 16
    }
   ],
   "source": [
    "import wordcloud\n",
    "txt='life is short, you need python'\n",
    "w=wordcloud.WordCloud(background_color='white')\n",
    "w.generate(txt)\n",
    "w.to_file('pywcloud.png')"
   ]
  },
  {
   "cell_type": "markdown",
   "metadata": {},
   "source": [
    "### 7.6 实例12：政府工作报告词云\n",
    "- 步骤1：读取文件、分词整理\n",
    "- 步骤2：设置并输出词云\n",
    "- 步骤3：观察结果，优化迭代\n"
   ]
  },
  {
   "cell_type": "code",
   "execution_count": 1,
   "metadata": {},
   "outputs": [
    {
     "output_type": "stream",
     "name": "stderr",
     "text": "Building prefix dict from the default dictionary ...\nLoading model from cache C:\\Users\\ADMINI~1\\AppData\\Local\\Temp\\jieba.cache\nLoading model cost 0.598 seconds.\nPrefix dict has been built successfully.\n"
    },
    {
     "output_type": "execute_result",
     "data": {
      "text/plain": "<wordcloud.wordcloud.WordCloud at 0x2e93e8363a0>"
     },
     "metadata": {},
     "execution_count": 1
    }
   ],
   "source": [
    "#GovRptWordCLoudv1\n",
    "import jieba\n",
    "import wordcloud\n",
    "f= open('小康.txt','r',encoding='utf-8')\n",
    "t=f.read()\n",
    "f.close\n",
    "ls=jieba.lcut(t)\n",
    "txt=' '.join(ls)\n",
    "w=wordcloud.WordCloud(font_path='C:\\\\$Recycle.Bin\\\\S-1-5-21-956881968-3683699883-3077907830-500\\\\$R3UWT13\\\\Updates\\\\Download\\\\PackageFiles\\\\F48252D1-E2D1-4E3D-A011-C1A468BFE8F4\\\\root\\\\vfs\\\\Fonts\\\\private\\\\MSYH.TTC',width=1000,height=700,background_color='black',max_words=15)\n",
    "w.generate(txt)\n",
    "w.to_file('建成小康.png')"
   ]
  },
  {
   "cell_type": "code",
   "execution_count": 3,
   "metadata": {},
   "outputs": [
    {
     "output_type": "execute_result",
     "data": {
      "text/plain": "<wordcloud.wordcloud.WordCloud at 0x2e95b296e50>"
     },
     "metadata": {},
     "execution_count": 3
    }
   ],
   "source": [
    "#GovRptWordCLoudv2\n",
    "import jieba\n",
    "import wordcloud\n",
    "import imageio\n",
    "mask=imageio.imread('中国地图.jpeg')\n",
    "f= open('小康.txt','r',encoding='utf-8')\n",
    "t=f.read()\n",
    "f.close\n",
    "ls=jieba.lcut(t)\n",
    "txt=' '.join(ls)\n",
    "w=wordcloud.WordCloud(font_path='C:\\\\$Recycle.Bin\\\\S-1-5-21-956881968-3683699883-3077907830-500\\\\$R3UWT13\\\\Updates\\\\Download\\\\PackageFiles\\\\F48252D1-E2D1-4E3D-A011-C1A468BFE8F4\\\\root\\\\vfs\\\\Fonts\\\\private\\\\MSYH.TTC',width=1000,height=700,background_color='white',max_words=150,mask=mask)\n",
    "w.generate(txt)\n",
    "w.to_file('建成小康.png')"
   ]
  },
  {
   "cell_type": "markdown",
   "metadata": {},
   "source": [
    "\n",
    "### 文本的平均数\n",
    "打印输出附件文件的平均列数，计算方法如下：‪‬‪‬‪‬‪‬‪‬‮‬‪‬‮‬‪‬‪‬‪‬‪‬‪‬‮‬‫‬‪‬‪‬‪‬‪‬‪‬‪‬‮‬‪‬‪‬‪‬‪‬‪‬‪‬‪‬‮‬‫‬‭‬‪‬‪‬‪‬‪‬‪‬‮‬‫‬‫‬‪‬‪‬‪‬‪‬‪‬‮‬‭‬‪‬\n",
    "\n",
    "（1）有效行指包含至少一个字符的行，不计算空行；‪‬‪‬‪‬‪‬‪‬‮‬‪‬‮‬‪‬‪‬‪‬‪‬‪‬‮‬‫‬‪‬‪‬‪‬‪‬‪‬‪‬‮‬‪‬‪‬‪‬‪‬‪‬‪‬‪‬‮‬‫‬‭‬‪‬‪‬‪‬‪‬‪‬‮‬‫‬‫‬‪‬‪‬‪‬‪‬‪‬‮‬‭‬‪‬\n",
    "\n",
    "（2）每行的列数为其有效字符数；‪‬‪‬‪‬‪‬‪‬‮‬‪‬‮‬‪‬‪‬‪‬‪‬‪‬‮‬‫‬‪‬‪‬‪‬‪‬‪‬‪‬‮‬‪‬‪‬‪‬‪‬‪‬‪‬‪‬‮‬‫‬‭‬‪‬‪‬‪‬‪‬‪‬‮‬‫‬‫‬‪‬‪‬‪‬‪‬‪‬‮‬‭‬‪‬\n",
    "\n",
    "（3）平均列数为有效行的列数平均值，采用四舍五入方式取整数进位。"
   ]
  },
  {
   "cell_type": "code",
   "execution_count": 6,
   "metadata": {
    "tags": [
     "outputPrepend"
    ]
   },
   "outputs": [
    {
     "output_type": "stream",
     "name": "stdout",
     "text": "48\n"
    }
   ],
   "source": [
    "with open('latex.log', 'r', encoding='utf-8') as f:\n",
    "    row_cnt=0\n",
    "    char_cnt=[]\n",
    "    for line in f:\n",
    "        line = line.strip('\\n')\n",
    "        if line == '':\n",
    "            continue\n",
    "        char_cnt.append(len(line))\n",
    "        row_cnt+=1\n",
    "    f.close()\n",
    "    print(round(sum(char_cnt)/row_cnt))"
   ]
  },
  {
   "cell_type": "markdown",
   "metadata": {},
   "source": [
    "### CSV格式清洗与转换\n",
    "描述\n",
    "附件是一个CSV格式文件，提取数据进行如下格式转换：‪‬‪‬‪‬‪‬‪‬‮‬‪‬‮‬‪‬‪‬‪‬‪‬‪‬‮‬‫‬‪‬‪‬‪‬‪‬‪‬‪‬‮‬‪‬‪‬‪‬‪‬‪‬‪‬‪‬‮‬‫‬‭‬‪‬‪‬‪‬‪‬‪‬‮‬‫‬‫‬‪‬‪‬‪‬‪‬‪‬‮‬‭‬‪‬\n",
    "\n",
    "（1）按行进行倒序排列；‪‬‪‬‪‬‪‬‪‬‮‬‪‬‮‬‪‬‪‬‪‬‪‬‪‬‮‬‫‬‪‬‪‬‪‬‪‬‪‬‪‬‮‬‪‬‪‬‪‬‪‬‪‬‪‬‪‬‮‬‫‬‭‬‪‬‪‬‪‬‪‬‪‬‮‬‫‬‫‬‪‬‪‬‪‬‪‬‪‬‮‬‭‬‪‬\n",
    "\n",
    "（2）每行数据倒序排列；‪‬‪‬‪‬‪‬‪‬‮‬‪‬‮‬‪‬‪‬‪‬‪‬‪‬‮‬‫‬‪‬‪‬‪‬‪‬‪‬‪‬‮‬‪‬‪‬‪‬‪‬‪‬‪‬‪‬‮‬‫‬‭‬‪‬‪‬‪‬‪‬‪‬‮‬‫‬‫‬‪‬‪‬‪‬‪‬‪‬‮‬‭‬‪‬\n",
    "\n",
    "（3）使用分号（;）代替逗号（,）分割数据，无空格；‪‬‪‬‪‬‪‬‪‬‮‬‪‬‮‬‪‬‪‬‪‬‪‬‪‬‮‬‫‬‪‬‪‬‪‬‪‬‪‬‪‬‮‬‪‬‪‬‪‬‪‬‪‬‪‬‪‬‮‬‫‬‭‬‪‬‪‬‪‬‪‬‪‬‮"
   ]
  },
  {
   "cell_type": "code",
   "execution_count": 13,
   "metadata": {},
   "outputs": [
    {
     "output_type": "stream",
     "name": "stdout",
     "text": "3;8;6;1;7;4;2;5\n'k';'j';'i';'c';'z';'x';'b';'y';'a'\n'x';'y';'j';'i';'k';'a';'b';'c';'z'\n'x';'a';'z';'y';'i';'c';'j';'b';'k'\n'k';'j';'i';'z';'y';'x';'c';'b';'a'\n2;4;7;5;8;3;1;6\n5;6;4;1;7;2;3;8\n7;6;5;4;3;2;1\n"
    }
   ],
   "source": [
    "with open('data.csv', 'r', encoding='utf-8') as f:\n",
    "    lines=f.readlines()\n",
    "    lines.reverse()\n",
    "    \n",
    "    for line in lines:\n",
    "        line = line.replace('\\n','')\n",
    "        line=line.replace(' ','')\n",
    "        t=line.split(',')\n",
    "        t.reverse()\n",
    "        print(';'.join(t))"
   ]
  },
  {
   "cell_type": "code",
   "execution_count": null,
   "metadata": {},
   "outputs": [],
   "source": []
  },
  {
   "cell_type": "code",
   "execution_count": null,
   "metadata": {},
   "outputs": [],
   "source": []
  }
 ],
 "metadata": {
  "language_info": {
   "name": "python",
   "codemirror_mode": {
    "name": "ipython",
    "version": 3
   },
   "version": "3.8.1-final"
  },
  "orig_nbformat": 2,
  "file_extension": ".py",
  "mimetype": "text/x-python",
  "name": "python",
  "npconvert_exporter": "python",
  "pygments_lexer": "ipython3",
  "version": 3,
  "kernelspec": {
   "name": "python38164bitfcfddd69c2904c95ac25b61ee34558ff",
   "display_name": "Python 3.8.1 64-bit"
  }
 },
 "nbformat": 4,
 "nbformat_minor": 2
}