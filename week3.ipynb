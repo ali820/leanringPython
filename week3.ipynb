{
 "nbformat": 4,
 "nbformat_minor": 2,
 "metadata": {
  "language_info": {
   "name": "python",
   "codemirror_mode": {
    "name": "ipython",
    "version": 3
   },
   "version": "3.8.1-final"
  },
  "orig_nbformat": 2,
  "file_extension": ".py",
  "mimetype": "text/x-python",
  "name": "python",
  "npconvert_exporter": "python",
  "pygments_lexer": "ipython3",
  "version": 3,
  "kernelspec": {
   "name": "python38164bitfcfddd69c2904c95ac25b61ee34558ff",
   "display_name": "Python 3.8.1 64-bit"
  }
 },
 "cells": [
  {
   "cell_type": "markdown",
   "metadata": {},
   "source": [
    "## 第三周 基本数据类型\n",
    "### 3.1 数据类型及操作\n",
    "### 3.2 实例3:天天向上的力量\n",
    "### 3.3 字符串类型及其操作\n",
    "### 3.4 模块2：time库使用\n",
    "### 3.5 实例4：文本进度条"
   ]
  },
  {
   "cell_type": "markdown",
   "metadata": {},
   "source": [
    "### 3.1 数据类型及操作\n",
    ">整数类型:与数学中整数的概念一致,可正可负，没有取值范围限制   \n",
    "\n",
    "- pow（x y）函数：计算$x^y$，想算多大算多大  \n",
    "\n",
    "四种进制表示形式：\n",
    "- 十进制：1010，99，-217等\n",
    "- 二进制，以0b或者0B开头：0b010，-0B10\n",
    "- 八进制，以00或0O开头：00123，-00456\n",
    "- 十六进制，以0x或0X开头：0x9a2，-0X89"
   ]
  },
  {
   "cell_type": "code",
   "execution_count": 1,
   "metadata": {},
   "outputs": [
    {
     "data": {
      "text/plain": "1024"
     },
     "execution_count": 1,
     "metadata": {},
     "output_type": "execute_result"
    }
   ],
   "source": [
    "pow(2,10) #pow函数"
   ]
  },
  {
   "cell_type": "markdown",
   "metadata": {},
   "source": [
    ">浮点数：带有小数点的数，与数学中概念一直，范围$-10^{308}$~$10^{308}$,精度$10^{-16}$\n",
    "\n",
    "- 浮点数的尾数存在不确定尾数，不是bug  \n",
    "- round（x，d）：对x四舍五入，d是小数截取位数  \n",
    "浮点数间运算及比较用round0函数辅助\n",
    "- 浮点数可以采用科学计数法表示  \n",
    "使用字母e或E作为幂的符号，以10为基数，格式如下\n",
    "<a>e<b>表示a*10b\n",
    "例如：4.3e-3值为000439.6E5值为960000.0"
   ]
  },
  {
   "cell_type": "code",
   "execution_count": 5,
   "metadata": {},
   "outputs": [
    {
     "data": {
      "text/plain": "0.30000000000000004"
     },
     "execution_count": 5,
     "metadata": {},
     "output_type": "execute_result"
    }
   ],
   "source": [
    "0.1+0.2  #不确定尾数"
   ]
  },
  {
   "cell_type": "code",
   "execution_count": 8,
   "metadata": {},
   "outputs": [
    {
     "data": {
      "text/plain": "False"
     },
     "execution_count": 8,
     "metadata": {},
     "output_type": "execute_result"
    }
   ],
   "source": [
    "0.1+0.2==0.3"
   ]
  },
  {
   "cell_type": "code",
   "execution_count": 16,
   "metadata": {},
   "outputs": [
    {
     "data": {
      "text/plain": "True"
     },
     "execution_count": 16,
     "metadata": {},
     "output_type": "execute_result"
    }
   ],
   "source": [
    "round(0.1+0.2,3)==0.3"
   ]
  },
  {
   "cell_type": "code",
   "execution_count": 15,
   "metadata": {},
   "outputs": [
    {
     "data": {
      "text/plain": "0.78"
     },
     "execution_count": 15,
     "metadata": {},
     "output_type": "execute_result"
    }
   ],
   "source": [
    "7.8e-1"
   ]
  },
  {
   "cell_type": "markdown",
   "metadata": {},
   "source": [
    ">复数类型：与数学中复数一致\n",
    "\n"
   ]
  },
  {
   "cell_type": "code",
   "execution_count": 21,
   "metadata": {},
   "outputs": [
    {
     "data": {
      "text/plain": "0.000123"
     },
     "execution_count": 21,
     "metadata": {},
     "output_type": "execute_result"
    }
   ],
   "source": [
    "z=1.23e-4+5.6e+89j\n",
    "#z.imag\n",
    "z.real"
   ]
  },
  {
   "cell_type": "markdown",
   "metadata": {},
   "source": [
    ">数值运算操作符\n",
    "\n",
    "\n",
    "+，-，*，/，//：加，减，乘，除，整数除\n",
    "- +x：x本身\n",
    "- -y：y的负值\n",
    "- x%y：y对x取余\n",
    "- x**y：幂运算\n",
    "\n",
    "- 增强运算符：x op= y，即x = x op y\n"
   ]
  },
  {
   "cell_type": "code",
   "execution_count": 22,
   "metadata": {},
   "outputs": [
    {
     "data": {
      "text/plain": "2.0"
     },
     "execution_count": 22,
     "metadata": {},
     "output_type": "execute_result"
    }
   ],
   "source": [
    "4**0.5"
   ]
  },
  {
   "cell_type": "code",
   "execution_count": 28,
   "metadata": {},
   "outputs": [
    {
     "name": "stdout",
     "output_type": "stream",
     "text": "6\n"
    }
   ],
   "source": [
    "x=2\n",
    "x*=3\n",
    "print(x)"
   ]
  },
  {
   "cell_type": "markdown",
   "metadata": {},
   "source": [
    ">数值运算函数:一些以函数形式提供数值运算的功能"
   ]
  },
  {
   "cell_type": "code",
   "execution_count": 30,
   "metadata": {},
   "outputs": [
    {
     "data": {
      "text/plain": "10.00001"
     },
     "execution_count": 30,
     "metadata": {},
     "output_type": "execute_result"
    }
   ],
   "source": [
    "abs(-10.00001) #绝对值函数abs（x）"
   ]
  },
  {
   "cell_type": "code",
   "execution_count": 36,
   "metadata": {},
   "outputs": [
    {
     "data": {
      "text/plain": "(3, 1)"
     },
     "execution_count": 36,
     "metadata": {},
     "output_type": "execute_result"
    }
   ],
   "source": [
    "divmod(10,3) #商余，（x//y，x%y）"
   ]
  },
  {
   "cell_type": "code",
   "execution_count": 2,
   "metadata": {},
   "outputs": [
    {
     "output_type": "execute_result",
     "data": {
      "text/plain": "6"
     },
     "metadata": {},
     "execution_count": 2
    }
   ],
   "source": [
    "pow(4,pow(2,1),10) #幂余，（x*y）%z，[]表示参数z可省路"
   ]
  },
  {
   "cell_type": "code",
   "execution_count": 2,
   "metadata": {},
   "outputs": [
    {
     "data": {
      "text/plain": "10.123"
     },
     "execution_count": 2,
     "metadata": {},
     "output_type": "execute_result"
    }
   ],
   "source": [
    "round(10.12345,3) #四舍五入，d是保留小数位数，默认值为0"
   ]
  },
  {
   "cell_type": "code",
   "execution_count": 3,
   "metadata": {},
   "outputs": [
    {
     "data": {
      "text/plain": "274877906858"
     },
     "execution_count": 3,
     "metadata": {},
     "output_type": "execute_result"
    }
   ],
   "source": [
    "max(1,3,5,6,7,8,9,10,0b11111111111111111111111111111110101010) #最大值"
   ]
  },
  {
   "cell_type": "code",
   "execution_count": 4,
   "metadata": {},
   "outputs": [
    {
     "data": {
      "text/plain": "-4892816229"
     },
     "execution_count": 4,
     "metadata": {},
     "output_type": "execute_result"
    }
   ],
   "source": [
    "min(1,3,4,5,6,7,87,8,8,-0x123a27365) #最小数"
   ]
  },
  {
   "cell_type": "code",
   "execution_count": 6,
   "metadata": {},
   "outputs": [
    {
     "data": {
      "text/plain": "123"
     },
     "execution_count": 6,
     "metadata": {},
     "output_type": "execute_result"
    }
   ],
   "source": [
    "int(123.3456) #将数变成整数，舍弃小数部分"
   ]
  },
  {
   "cell_type": "code",
   "execution_count": 5,
   "metadata": {},
   "outputs": [
    {
     "data": {
      "text/plain": "10.0"
     },
     "execution_count": 5,
     "metadata": {},
     "output_type": "execute_result"
    }
   ],
   "source": [
    "float(10) #将数变成浮点数，增加小数部分"
   ]
  },
  {
   "cell_type": "code",
   "execution_count": 10,
   "metadata": {},
   "outputs": [
    {
     "data": {
      "text/plain": "(-1080+0j)"
     },
     "execution_count": 10,
     "metadata": {},
     "output_type": "execute_result"
    }
   ],
   "source": [
    "complex(-10e2) #将整变成复数，增加虚数部分"
   ]
  },
  {
   "cell_type": "markdown",
   "metadata": {},
   "source": [
    "### 3.2 实例3:天天向上的力量\n",
    ">问题1：千分之一的历力量\n",
    "- 每天进步0.001，一年累计进步多少？\n",
    "- 每天退步0.001，一年累计退步多少？"
   ]
  },
  {
   "cell_type": "code",
   "execution_count": 17,
   "metadata": {},
   "outputs": [
    {
     "name": "stdout",
     "output_type": "stream",
     "text": "向上：1.44,向下：0.69\n"
    }
   ],
   "source": [
    "#DayDayUpQ1\n",
    "dayup = pow(1.001,365)\n",
    "daydown = pow(0.999,365)\n",
    "print('向上：{:.2f},向下：{:.2f}'.format(dayup,daydown))"
   ]
  },
  {
   "cell_type": "markdown",
   "metadata": {},
   "source": [
    "问题2：改为百分之一或者千分之五  \n",
    "在代码里加变量，更改变量即可"
   ]
  },
  {
   "cell_type": "code",
   "execution_count": 20,
   "metadata": {},
   "outputs": [
    {
     "name": "stdout",
     "output_type": "stream",
     "text": "向上：37.78,向下：0.03\n"
    }
   ],
   "source": [
    "#DayDayUpQ2\n",
    "dayfactor = 0.01\n",
    "dayup = pow(1+dayfactor,365)\n",
    "daydown = pow(1-dayfactor,365)\n",
    "print('向上：{:.2f},向下：{:.2f}'.format(dayup,daydown))"
   ]
  },
  {
   "cell_type": "markdown",
   "metadata": {},
   "source": [
    "问题3：5个工作日进步1%，2个休息日退步1%"
   ]
  },
  {
   "cell_type": "code",
   "execution_count": 44,
   "metadata": {},
   "outputs": [
    {
     "name": "stdout",
     "output_type": "stream",
     "text": "进步：4.63\n"
    }
   ],
   "source": [
    "#DayDayUpQ3\n",
    "dayup = 1.0\n",
    "dayfactor = 0.01\n",
    "for i in range(365):\n",
    "    if i % 7 in [6,0]:\n",
    "        dayup *= (1 - dayfactor)\n",
    "    else:\n",
    "        dayup *= (1 + dayfactor)\n",
    "print('进步：{:.2f}'.format(dayup))"
   ]
  },
  {
   "cell_type": "markdown",
   "metadata": {},
   "source": [
    "问题4：工作日努力程度多少时，才能与每天努力1%相同（休息两天下降1%不变）"
   ]
  },
  {
   "cell_type": "code",
   "execution_count": 61,
   "metadata": {},
   "outputs": [
    {
     "name": "stdout",
     "output_type": "stream",
     "text": "工作日的努力程度：0.019\n"
    }
   ],
   "source": [
    "#DayDayUpQ4\n",
    "def dayUp(df):\n",
    "    dayup = 1\n",
    "    for i in range(365):\n",
    "        if i % 7 in [6,0]:\n",
    "            dayup = dayup*(1 - 0.01)\n",
    "        else:\n",
    "            dayup = dayup*(1 + df)\n",
    "    return dayup\n",
    "\n",
    "dayfactor = 0.01\n",
    "while dayUp(dayfactor) < round(pow(1.01,365),2):\n",
    "    dayfactor += 0.001\n",
    " \n",
    "print('工作日的努力程度：{:.3f}'.format(dayfactor))"
   ]
  },
  {
   "cell_type": "markdown",
   "metadata": {},
   "source": [
    "### 3.3 字符串类型及其操作\n",
    ">由0个或多个字符组成的有序字符序列\n",
    "\n",
    "- 字符串由一对单引号或一对双引号表示  \n",
    "字符串是字符的有序序列，可以对其中的字符进行索引\n",
    "- 字符串有2类共4种表示方法\n",
    "由一对单引号或双引号表示，仅表示单行字符串  \n",
    "由一对三单引号或三双引号表示，可表示多行字符串\n",
    "- 如果希望在字符串中包含双引号或单引号呢？  \n",
    "需要哪种引号就不把那种引号作为字符串的标记\n",
    "- 同时存在正向递增（从0开始）、反向递减（从-1开始）\n",
    "- 索引：返回字符串中单个字符:<字符串>\\[M]  \n",
    "切片：返回字符串中一段字符子串:<字符串>\\[M：N]，M缺失表示至开头，N缺失表示全培尾  \n",
    "<字符串>M：N：K]，根据步长K对字符串切片\n",
    "- 转义符：\\ 可以表示字符的本意  \n",
    "转义符形成一些组合，表达一些不可打印的含义:\"\\b\"回退,\"\\n\"换行（光标移动到下行首）,\"\\r\"回车（光标移动到本行首）\n",
    ">由0个或多个字符组成的有序字符序列\n",
    "\n",
    "- x+y:连接两个字符串  \n",
    "n\\*x或x*n：复制n次字符串x  \n",
    " x in s：如果x是s的子串，返回True，否则返回 False  \n",
    "\n"
   ]
  },
  {
   "cell_type": "code",
   "execution_count": 63,
   "metadata": {},
   "outputs": [
    {
     "name": "stdout",
     "output_type": "stream",
     "text": "星期二\n"
    }
   ],
   "source": [
    "#WeekNamePrintV1\n",
    "weekStr = '星期一星期二星期三星期四星期五星期六星期日'\n",
    "weekId = eval(input('请输入星期数字（1-7）：'))\n",
    "pos = (weekId - 1)*3\n",
    "print(weekStr[pos:pos+3])\n"
   ]
  },
  {
   "cell_type": "code",
   "execution_count": 65,
   "metadata": {},
   "outputs": [
    {
     "name": "stdout",
     "output_type": "stream",
     "text": "星期日\n"
    }
   ],
   "source": [
    "#WeekNamePrintV1\n",
    "weekStr = '一二三四五六日'\n",
    "weekId = eval(input('请输入星期数字（1-7）：'))\n",
    "print('星期'+weekStr[weekId-1])"
   ]
  },
  {
   "cell_type": "markdown",
   "metadata": {},
   "source": [
    ">字符串处理函数"
   ]
  },
  {
   "cell_type": "code",
   "execution_count": 66,
   "metadata": {},
   "outputs": [
    {
     "data": {
      "text/plain": "4"
     },
     "execution_count": 66,
     "metadata": {},
     "output_type": "execute_result"
    }
   ],
   "source": [
    "len('1yi一') #字符串长度"
   ]
  },
  {
   "cell_type": "code",
   "execution_count": 68,
   "metadata": {},
   "outputs": [
    {
     "data": {
      "text/plain": "'1234'"
     },
     "execution_count": 68,
     "metadata": {},
     "output_type": "execute_result"
    }
   ],
   "source": [
    "str(1234) #将任意类型变成字符串"
   ]
  },
  {
   "cell_type": "code",
   "execution_count": 69,
   "metadata": {},
   "outputs": [
    {
     "data": {
      "text/plain": "'0xea'"
     },
     "execution_count": 69,
     "metadata": {},
     "output_type": "execute_result"
    }
   ],
   "source": [
    "hex(234) #将整数变成16进制"
   ]
  },
  {
   "cell_type": "code",
   "execution_count": 70,
   "metadata": {},
   "outputs": [
    {
     "data": {
      "text/plain": "'0o352'"
     },
     "execution_count": 70,
     "metadata": {},
     "output_type": "execute_result"
    }
   ],
   "source": [
    "oct(234) #将整数变成8进制"
   ]
  },
  {
   "cell_type": "code",
   "execution_count": 72,
   "metadata": {},
   "outputs": [
    {
     "data": {
      "text/plain": "'Ӓ'"
     },
     "execution_count": 72,
     "metadata": {},
     "output_type": "execute_result"
    }
   ],
   "source": [
    "chr(1234) #Unicode编码返回其对应的字符"
   ]
  },
  {
   "cell_type": "code",
   "execution_count": 76,
   "metadata": {},
   "outputs": [
    {
     "data": {
      "text/plain": "65"
     },
     "execution_count": 76,
     "metadata": {},
     "output_type": "execute_result"
    }
   ],
   "source": [
    "ord('A') #字符，返回其对应的 Unicode编码"
   ]
  },
  {
   "cell_type": "code",
   "execution_count": 78,
   "metadata": {},
   "outputs": [
    {
     "name": "stdout",
     "output_type": "stream",
     "text": "♈♉♊♋♌♍♎♏♐♑♒♓"
    }
   ],
   "source": [
    "#输出星座字符\n",
    "for i in range (12):\n",
    "    print(chr(9800+i),end = '')"
   ]
  },
  {
   "cell_type": "markdown",
   "metadata": {},
   "source": [
    ">方法\"在编程中是一个专有名词  \n",
    "- \"方法\"特指`<a>.<b>()`风格中的函数`<b>()`  \n",
    "方法本身也是函数，但与`<a>`有关，`<a>.<b>()`风格使用  \n",
    "字符串及变量也是`<a>`，存在一些方法\n",
    "\n"
   ]
  },
  {
   "cell_type": "code",
   "execution_count": 94,
   "metadata": {},
   "outputs": [
    {
     "data": {
      "text/plain": "'abdhsuwwbdja'"
     },
     "execution_count": 94,
     "metadata": {},
     "output_type": "execute_result"
    }
   ],
   "source": [
    "'ABDHSUwwbdja'.lower() #全部字符小写 "
   ]
  },
  {
   "cell_type": "code",
   "execution_count": 95,
   "metadata": {},
   "outputs": [
    {
     "data": {
      "text/plain": "'ASJIJIHDQHSUDHAUSBC'"
     },
     "execution_count": 95,
     "metadata": {},
     "output_type": "execute_result"
    }
   ],
   "source": [
    "'ASJIJIHDqhsudhausbc'.upper() #全部字符大写"
   ]
  },
  {
   "cell_type": "code",
   "execution_count": 91,
   "metadata": {},
   "outputs": [
    {
     "data": {
      "text/plain": "['A', 'BAB', 'G']"
     },
     "execution_count": 91,
     "metadata": {},
     "output_type": "execute_result"
    }
   ],
   "source": [
    "'A<BAB<G'.split('<') #按照给定符号将一个字符串拆解成为列表"
   ]
  },
  {
   "cell_type": "code",
   "execution_count": 97,
   "metadata": {},
   "outputs": [
    {
     "data": {
      "text/plain": "4"
     },
     "execution_count": 97,
     "metadata": {},
     "output_type": "execute_result"
    }
   ],
   "source": [
    "'an apple a day'.count('a') #查字符串中的出现数目 "
   ]
  },
  {
   "cell_type": "code",
   "execution_count": 98,
   "metadata": {},
   "outputs": [
    {
     "data": {
      "text/plain": "'python123.io'"
     },
     "execution_count": 98,
     "metadata": {},
     "output_type": "execute_result"
    }
   ],
   "source": [
    "'python'.replace('n','n123.io') #替换字符串中某些元素"
   ]
  },
  {
   "cell_type": "code",
   "execution_count": 99,
   "metadata": {},
   "outputs": [
    {
     "data": {
      "text/plain": "'~~~~~~~python~~~~~~~'"
     },
     "execution_count": 99,
     "metadata": {},
     "output_type": "execute_result"
    }
   ],
   "source": [
    "'python'.center(20,'~') #根据20的宽度用~填充居中字符"
   ]
  },
  {
   "cell_type": "code",
   "execution_count": 102,
   "metadata": {},
   "outputs": [
    {
     "data": {
      "text/plain": "'ytho'"
     },
     "execution_count": 102,
     "metadata": {},
     "output_type": "execute_result"
    }
   ],
   "source": [
    "'= python ='.strip(' =np') #去除左右两端的字符"
   ]
  },
  {
   "cell_type": "code",
   "execution_count": 104,
   "metadata": {},
   "outputs": [
    {
     "data": {
      "text/plain": "'我-是-谁-？'"
     },
     "execution_count": 104,
     "metadata": {},
     "output_type": "execute_result"
    }
   ],
   "source": [
    "'-'.join('我是谁？') #用于字符串分隔"
   ]
  },
  {
   "cell_type": "markdown",
   "metadata": {},
   "source": [
    ">字符串类型的格式化\n",
    "- 槽：一种用于字符串的占位信息符"
   ]
  },
  {
   "cell_type": "code",
   "execution_count": 126,
   "metadata": {},
   "outputs": [
    {
     "data": {
      "text/plain": "'2018-10-10:计算机C的CPU占用率：32%'"
     },
     "execution_count": 126,
     "metadata": {},
     "output_type": "execute_result"
    }
   ],
   "source": [
    "'{}:计算机{}的CPU占用率：{}%'.format('2018-10-10','C',pow(2,5)) #槽机制+format方法"
   ]
  },
  {
   "cell_type": "code",
   "execution_count": 133,
   "metadata": {},
   "outputs": [
    {
     "data": {
      "text/plain": "'======================python======================'"
     },
     "execution_count": 133,
     "metadata": {},
     "output_type": "execute_result"
    }
   ],
   "source": [
    "'{:=^50}'.format('python') #=填充，居中对齐，宽度50"
   ]
  },
  {
   "cell_type": "code",
   "execution_count": 142,
   "metadata": {},
   "outputs": [
    {
     "data": {
      "text/plain": "'12,345.68'"
     },
     "execution_count": 142,
     "metadata": {},
     "output_type": "execute_result"
    }
   ],
   "source": [
    "'{:,.2f}'.format(12345.678947) #千位分隔，精度为2，浮点数类型"
   ]
  },
  {
   "cell_type": "markdown",
   "metadata": {},
   "source": [
    "### 3.4 模块2：time库使用\n",
    ">time库：Python中处理时间的标准库 \n",
    "计算机时间的表达  \n",
    "提供获取系统时间并格式化输出功能  \n",
    "提供系统级精确计时功能，用于程序性能分析  \n",
    "\n",
    "- 包括三类函数\n",
    "    - 时间获取：`time()`,`ctime()`,`gmtime()`\n",
    "    - 时间格式化：`strftime()`,`strptime()`\n",
    "    - 程序计时：`sleep()`,`perf_time()`"
   ]
  },
  {
   "cell_type": "code",
   "execution_count": 58,
   "metadata": {},
   "outputs": [
    {
     "data": {
      "text/plain": "1583509138.1986494"
     },
     "execution_count": 58,
     "metadata": {},
     "output_type": "execute_result"
    }
   ],
   "source": [
    "import time as t\n",
    "\n",
    "#时间获取\n",
    "t.time() #1970/1/1 0.0.0 至今的秒数,计算机内部时间"
   ]
  },
  {
   "cell_type": "code",
   "execution_count": 57,
   "metadata": {},
   "outputs": [
    {
     "data": {
      "text/plain": "'Fri Mar  6 23:38:53 2020'"
     },
     "execution_count": 57,
     "metadata": {},
     "output_type": "execute_result"
    }
   ],
   "source": [
    "t.ctime() #获取当前时间并以易读方式表示，返回字符串"
   ]
  },
  {
   "cell_type": "code",
   "execution_count": 62,
   "metadata": {},
   "outputs": [
    {
     "data": {
      "text/plain": "time.struct_time(tm_year=2020, tm_mon=3, tm_mday=6, tm_hour=15, tm_min=39, tm_sec=3, tm_wday=4, tm_yday=66, tm_isdst=0)"
     },
     "execution_count": 62,
     "metadata": {},
     "output_type": "execute_result"
    }
   ],
   "source": [
    "t.gmtime() #获取当前时间，表示为计算机可处理的时间格式"
   ]
  },
  {
   "cell_type": "code",
   "execution_count": 75,
   "metadata": {},
   "outputs": [
    {
     "data": {
      "text/plain": "'2020-03-March-Mar-06  15（03）:41:40  Friday-Fri  PM'"
     },
     "execution_count": 75,
     "metadata": {},
     "output_type": "execute_result"
    }
   ],
   "source": [
    "#时间格式化：类似字符申格式化，需要有展示模板，展示模板由特定的格式化控制符组成\n",
    "\n",
    "Time = t.gmtime() #获取计算机可读的时间\n",
    "t.strftime('%Y-%m-%B-%b-%d  %H（%I）:%M:%S  %A-%a  %p',Time) #按照定义的模板输出时间类型变量，%B表示英文十二个月全名称，其余看示例"
   ]
  },
  {
   "cell_type": "code",
   "execution_count": 81,
   "metadata": {},
   "outputs": [
    {
     "data": {
      "text/plain": "time.struct_time(tm_year=2020, tm_mon=3, tm_mday=6, tm_hour=23, tm_min=46, tm_sec=34, tm_wday=4, tm_yday=66, tm_isdst=-1)"
     },
     "execution_count": 81,
     "metadata": {},
     "output_type": "execute_result"
    }
   ],
   "source": [
    "#读取字符串里的时间为计算机可识别的\n",
    "timeStr = '2020-03-06  23:46:34'\n",
    "t.strptime(timeStr,'%Y-%m-%d  %H:%M:%S')"
   ]
  },
  {
   "cell_type": "code",
   "execution_count": 297,
   "metadata": {},
   "outputs": [
    {
     "data": {
      "text/plain": "2.6000000161729986e-05"
     },
     "execution_count": 297,
     "metadata": {},
     "output_type": "execute_result"
    }
   ],
   "source": [
    "#程序计时：测量起止动作所经历时间的过程，分测量时间和产生时间\n",
    "start = t.perf_counter()#测量时间,差值才有意义\n",
    "end = t.perf_counter()\n",
    "end - start"
   ]
  },
  {
   "cell_type": "code",
   "execution_count": 300,
   "metadata": {},
   "outputs": [],
   "source": [
    "def wait():\n",
    "    t.sleep(3.3)\n",
    "wait()#程序等待3.3s后继续"
   ]
  },
  {
   "cell_type": "markdown",
   "metadata": {},
   "source": [
    "### 3.5 实例4：文本进度条"
   ]
  },
  {
   "cell_type": "code",
   "execution_count": 19,
   "metadata": {},
   "outputs": [
    {
     "name": "stdout",
     "output_type": "stream",
     "text": "------执行开始------\n 0 %[->..........]\n10 %[*->.........]\n20 %[**->........]\n30 %[***->.......]\n40 %[****->......]\n50 %[*****->.....]\n60 %[******->....]\n70 %[*******->...]\n80 %[********->..]\n90 %[*********->.]\n100%[**********->]\n-------执行结束------\n"
    }
   ],
   "source": [
    "#TextProBarV1\n",
    "import time as t #引入库\n",
    "scale = 10\n",
    "print('------执行开始------') #开始标签\n",
    "for i in range(scale+1): #产生循环，每一个循环产生时间和打印进度条\n",
    "    a = \"*\"*i\n",
    "    b = '.'*(scale - i) #字符串与整数的乘积表示字符串复制的次数\n",
    "    c = (i/scale)*100\n",
    "    print('{:^3.0f}%[{}->{}]'.format(c,a,b))\n",
    "    t.sleep(0.3)\n",
    "print('-------执行结束------') #结束标签"
   ]
  },
  {
   "cell_type": "code",
   "execution_count": 33,
   "metadata": {},
   "outputs": [
    {
     "name": "stdout",
     "output_type": "stream",
     "text": "100%"
    }
   ],
   "source": [
    "#TextProBarV1 单行刷新\n",
    "#刷新的本质是用后打印的字符覆盖前面的字符\n",
    "#需要控制print函数，防止其自动换行\n",
    "import time as t\n",
    "for i in range(101):\n",
    "    print('\\r{:3}%'.format(i),end = '')\n",
    "    t.sleep(0.1)"
   ]
  },
  {
   "cell_type": "code",
   "execution_count": 89,
   "metadata": {},
   "outputs": [
    {
     "name": "stdout",
     "output_type": "stream",
     "text": "-----------执行开始----------\n100%[**************************************************->] [5.03s]\n-----------执行结束----------\n"
    }
   ],
   "source": [
    "#TextProBarV3\n",
    "import time as t #引入库\n",
    "import math as m \n",
    "scale = 50\n",
    "print('执行开始'.center(scale//2,'-')) #开始标签\n",
    "start = t.perf_counter()\n",
    "for i in range(scale+1): #产生循环，每一个循环产生时间和打印进度条\n",
    "    a = \"*\"*i\n",
    "    b = '.'*(scale - i) #字符串与整数的乘积表示字符串复制的次数\n",
    "    #c = (i/scale)*100  #线性记录进度\n",
    "    c = round((m.sin(i/scale*0.5*(m.pi))),3)*100\n",
    "    dur = t.perf_counter()-start\n",
    "    print('\\r{:^3.0f}%[{}->{}] [{:.2f}s]'.format(c,a,b,dur),end = '')\n",
    "    t.sleep(0.1)\n",
    "print('\\n'+'执行结束'.center(scale//2,'-')) #结束标签"
   ]
  },
  {
   "cell_type": "markdown",
   "metadata": {},
   "source": [
    "- 进度条是人机交互的较好的表现形式"
   ]
  },
  {
   "cell_type": "code",
   "execution_count": 4,
   "metadata": {},
   "outputs": [
    {
     "data": {
      "text/plain": "302"
     },
     "execution_count": 4,
     "metadata": {},
     "output_type": "execute_result"
    }
   ],
   "source": [
    "val = pow(2,1000)\n",
    "len(str(val))"
   ]
  },
  {
   "cell_type": "code",
   "execution_count": 5,
   "metadata": {},
   "outputs": [
    {
     "name": "stdout",
     "output_type": "stream",
     "text": "PYTHON\n"
    }
   ],
   "source": [
    "s='PYTHON'\n",
    "print(\"{0:3}\".format(s))"
   ]
  },
  {
   "cell_type": "markdown",
   "metadata": {},
   "source": [
    "#### 平方根格式化\n",
    "\n",
    "获得用户输入的一个整数a，计算a的平方根，保留小数点后3位，并打印输出。‪‬‪‬‪‬‪‬‪‬‮‬‪‬‮‬‪‬‪‬‪‬‪‬‪‬‮‬‫‬‪‬‪‬‪‬‪‬‪‬‪‬‮‬‪‬‪‬‪‬‪‬‪‬‪‬‪‬‮‬‫‬‭‬‪‬‪‬‪‬‪‬‪‬‮‬‫‬‫‬‪‬‪‬‪‬‪‬‪‬‮‬‭‬‪‬\n",
    "\n",
    "输出结果采用宽度30个字符、右对齐输出、多余字符采用加号(+)填充。‪‬‪‬‪‬‪‬‪‬‮‬‪‬‮‬‪‬‪‬‪‬‪‬‪‬‮‬‫‬‪‬‪‬‪‬‪‬‪‬‪‬‮‬‪‬‪‬‪‬‪‬‪‬‪‬‪‬‮‬‫‬‭‬‪‬‪‬‪‬‪‬‪‬‮‬‫‬‫‬‪‬‪‬‪‬‪‬‪‬‮‬‭‬‪‬\n",
    "\n",
    "如果结果超过30个字符，则以结果宽度为准。"
   ]
  },
  {
   "cell_type": "code",
   "execution_count": 15,
   "metadata": {},
   "outputs": [
    {
     "name": "stdout",
     "output_type": "stream",
     "text": "++++++++++++++++++0.000+3.162j\n"
    }
   ],
   "source": [
    "zhengshu = input()\n",
    "print('{:+>30.3f}'.format(pow(eval(zhengshu),0.5)))"
   ]
  },
  {
   "cell_type": "markdown",
   "metadata": {},
   "source": [
    "#### 字符串分段组合\n",
    "\n",
    "获得输入的一个字符串s，以字符减号(-)分割s，将其中首尾两段用加号(+)组合后输出。"
   ]
  },
  {
   "cell_type": "code",
   "execution_count": 20,
   "metadata": {},
   "outputs": [
    {
     "name": "stdout",
     "output_type": "stream",
     "text": "Alice+Flurry\n"
    }
   ],
   "source": [
    "zifu = input()\n",
    "ZiFu = zifu.split('-')\n",
    "print('{}+{}'.format(ZiFu[0],ZiFu[-1])) "
   ]
  }
 ]
}